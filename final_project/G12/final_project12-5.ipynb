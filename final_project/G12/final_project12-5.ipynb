{
 "cells": [
  {
   "cell_type": "markdown",
   "id": "d1c23ba4",
   "metadata": {},
   "source": [
    "# 第12組_社群媒體分析_期末專案_BERT-NER"
   ]
  },
  {
   "cell_type": "markdown",
   "id": "008a70ae",
   "metadata": {},
   "source": [
    "## 組別：Group 12\n",
    "## 題目：PTT論壇AI相關議題的語料分析與趨勢探勘\n",
    "### 使用工具：Python\n",
    "\n",
    "M134020005 馮祐倫  \n",
    "M134020051 柯昆霖\n",
    "\n",
    "報告影片連結：https://youtu.be/NcM5DaE0uTg\n"
   ]
  },
  {
   "cell_type": "markdown",
   "id": "d0ba75bb",
   "metadata": {},
   "source": [
    "## 目的\n",
    "2023 年起，生成式 AI 帶來了前所未有的變革浪潮。從 ChatGPT 到 Midjourney、從人工到自動化，AI 正以前所未有的速度滲透人們的工作與生活。  \n",
    "而在台灣最具代表性的網路論壇之一——PTT，鄉民們也開始熱烈討論這波浪潮帶來的機會與焦慮。\n",
    "\n",
    "本專案計畫分析和說明以下三個核心問題：\n",
    "\n",
    "1. PTT 社群如何看待 AI 在職場與科技工作的角色與影響？\n",
    "\n",
    "2. 各主要實體（如：公司、技術、人物等）在討論中扮演什麼樣的網絡位置與影響力？\n",
    "\n",
    "3. 不同主題下的情緒傾向與輿論熱點為何？\n",
    "\n",
    "\n",
    "透過各種不同的分析，進一步揭示各實體在社群中的連結強度、討論中心性與潛在社群結構：\n",
    "\n",
    "1. 情緒分析 (Sentiment Analysis)\n",
    "\n",
    "    目的：判斷貼文中對 AI 的整體情感傾向（正向、中立、負向）。\n",
    "\n",
    "    應用：了解網友對 AI 技術、AI 應用在工作上，以及 AI 對職場未來影響的情緒態度，並進一步探索情緒隨時間或議題的變化趨勢。\n",
    "\n",
    "2. 主題模型分析 (Topic Modeling)\n",
    "\n",
    "    目的：藉由 BERTopic 方法，自動挖掘貼文中的主題結構，找出幾大核心討論議題。\n",
    "\n",
    "    應用：了解在「AI+工作」範疇內，網友最關注哪些面向（例如「AI 自動化取代工作」、「AI 招募面試應用」、「AI 技能學習建議」……），並分析每個主題的情緒分佈與實體共現情況。\n",
    "\n",
    "3. 命名實體識別 (NER)\n",
    "\n",
    "    目的：自動偵測並抽取貼文中的組織（ORG）、人物（PERSON）、產品（PRODUCT）、技術（TECH）等實體。\n",
    "\n",
    "    應用：辨識出在 AI 討論中最常被提及的公司（如台積電、NVIDIA）、研究單位、意見領袖，或是關鍵技術名詞，為後續網路圖與主題建模提供實體基礎。\n",
    "\n",
    "4. 網路圖構建 (Network Graph Analysis)\n",
    "\n",
    "    目的：將貼文中的實體 (經由 NER) 與關鍵詞或使用者互動關係視覺化為節點與邊，構建實體共現網路或使用者互動網路。\n",
    "\n",
    "    應用：揭示 AI 議題中各實體之間的關聯強度（例如哪些公司或技術一起被討論最多）、意見領袖的社群結構，以及不同主題或情緒社群的網絡分布。\n",
    "\n",
    "\n",
    "綜合以上，能更立體地描繪出台灣論壇使用者在 AI 職場議題中的討論趨勢、關注焦點與情緒反應。\n"
   ]
  },
  {
   "cell_type": "code",
   "execution_count": null,
   "id": "initial_id",
   "metadata": {
    "ExecuteTime": {
     "end_time": "2024-06-02T15:59:44.813056Z",
     "start_time": "2024-06-02T15:59:44.799058Z"
    },
    "collapsed": true,
    "id": "initial_id"
   },
   "outputs": [],
   "source": [
    "import pandas as pd\n",
    "import re\n",
    "import ast\n",
    "\n",
    "from tqdm import tqdm\n",
    "import matplotlib.pyplot as plt\n",
    "from matplotlib import font_manager\n",
    "from ckip_transformers.nlp import CkipWordSegmenter, CkipPosTagger, CkipNerChunker"
   ]
  },
  {
   "cell_type": "markdown",
   "id": "a36adb47c9142b7",
   "metadata": {
    "id": "a36adb47c9142b7"
   },
   "source": [
    "## 資料集概覽\n",
    "\n",
    "此資料集收集自台灣的社群媒體平台 PTT。PTT「工作」、「職場」、「科技工作」三個版中，針對含有 “AI” 關鍵字的貼文。資料收集範圍從 2024 年 5 月 1 日到 2025 年 5 月 1 日，共包含 2456 筆資料。\n",
    "\n",
    "## 資料欄位說明\n",
    "\n",
    "資料集包含以下 10 個欄位：\n",
    "\n",
    "1. `system_id`: 系統編號\n",
    "2. `artComment`: 文章評論\n",
    "3. `artDate`: 文章日期\n",
    "4. `insertedDate`: 插入日期\n",
    "5. `artContent`: 文章內容\n",
    "6. `artCatagory`: 文章類別\n",
    "7. `dataSource`: 資料來源\n",
    "8. `artPoster`: 發文者\n",
    "9. `artTitle`: 文章標題。\n",
    "10. `artUrl`: 文章網址"
   ]
  },
  {
   "cell_type": "code",
   "execution_count": null,
   "id": "4baf7c3979f8f827",
   "metadata": {
    "ExecuteTime": {
     "end_time": "2024-06-02T14:31:59.013051Z",
     "start_time": "2024-06-02T14:31:58.758055Z"
    },
    "id": "4baf7c3979f8f827",
    "outputId": "2a392553-e908-42e8-bdd3-48fef7416ac1"
   },
   "outputs": [
    {
     "data": {
      "text/html": [
       "<div>\n",
       "<style scoped>\n",
       "    .dataframe tbody tr th:only-of-type {\n",
       "        vertical-align: middle;\n",
       "    }\n",
       "\n",
       "    .dataframe tbody tr th {\n",
       "        vertical-align: top;\n",
       "    }\n",
       "\n",
       "    .dataframe thead th {\n",
       "        text-align: right;\n",
       "    }\n",
       "</style>\n",
       "<table border=\"1\" class=\"dataframe\">\n",
       "  <thead>\n",
       "    <tr style=\"text-align: right;\">\n",
       "      <th></th>\n",
       "      <th>system_id</th>\n",
       "      <th>artUrl</th>\n",
       "      <th>artTitle</th>\n",
       "      <th>artDate</th>\n",
       "      <th>artPoster</th>\n",
       "      <th>artCatagory</th>\n",
       "      <th>artContent</th>\n",
       "      <th>artComment</th>\n",
       "      <th>e_ip</th>\n",
       "      <th>insertedDate</th>\n",
       "      <th>dataSource</th>\n",
       "    </tr>\n",
       "  </thead>\n",
       "  <tbody>\n",
       "    <tr>\n",
       "      <th>0</th>\n",
       "      <td>1</td>\n",
       "      <td>https://www.ptt.cc/bbs/Tech_Job/M.1714553434.A...</td>\n",
       "      <td>Re:[面試]104待遇寫4w~4.8w你應該開多少？</td>\n",
       "      <td>2024-05-01 16:50:30</td>\n",
       "      <td>LaAc</td>\n",
       "      <td>Tech_Job</td>\n",
       "      <td>很明顯絕對會，我之前面試時就遇過，而且明擺著開太高不會用你。\\n\\n前陣子業界很凍（現在好像...</td>\n",
       "      <td>[{\"cmtStatus\": \"推\", \"cmtPoster\": \"kwanles\", \"c...</td>\n",
       "      <td>27.53.241.196</td>\n",
       "      <td>2024-05-02 02:19:38</td>\n",
       "      <td>ptt</td>\n",
       "    </tr>\n",
       "    <tr>\n",
       "      <th>1</th>\n",
       "      <td>2</td>\n",
       "      <td>https://www.ptt.cc/bbs/Tech_Job/M.1714555446.A...</td>\n",
       "      <td>[新聞]年後轉職最熱門公司出爐前三名台積電、</td>\n",
       "      <td>2024-05-01 17:24:04</td>\n",
       "      <td>qazxc1156892</td>\n",
       "      <td>Tech_Job</td>\n",
       "      <td>新聞標題： 年後轉職最熱門公司出爐 前三名台積電、華碩、台達電\\n\\n2024-05-01 ...</td>\n",
       "      <td>[{\"cmtStatus\": \"→\", \"cmtPoster\": \"abc21086999\"...</td>\n",
       "      <td>223.137.1.131</td>\n",
       "      <td>2024-05-02 02:19:38</td>\n",
       "      <td>ptt</td>\n",
       "    </tr>\n",
       "    <tr>\n",
       "      <th>2</th>\n",
       "      <td>3</td>\n",
       "      <td>https://www.ptt.cc/bbs/Tech_Job/M.1714556891.A...</td>\n",
       "      <td>[新聞]訓練台版AI語言模型，許永真：盼讓百工</td>\n",
       "      <td>2024-05-01 17:48:08</td>\n",
       "      <td>pl132</td>\n",
       "      <td>Tech_Job</td>\n",
       "      <td>訓練台版 AI 語言模型，許永真：盼讓百工百業商用\\nhttps://technews.tw...</td>\n",
       "      <td>[{\"cmtStatus\": \"→\", \"cmtPoster\": \"ling621\", \"c...</td>\n",
       "      <td>180.177.2.112</td>\n",
       "      <td>2024-05-02 02:19:38</td>\n",
       "      <td>ptt</td>\n",
       "    </tr>\n",
       "    <tr>\n",
       "      <th>3</th>\n",
       "      <td>4</td>\n",
       "      <td>https://www.ptt.cc/bbs/Tech_Job/M.1714570922.A...</td>\n",
       "      <td>[新聞]首屆台法科研會議吳政忠：六大領域可望</td>\n",
       "      <td>2024-05-01 21:41:58</td>\n",
       "      <td>createlight</td>\n",
       "      <td>Tech_Job</td>\n",
       "      <td>https://www.epochtimes.com/b5/24/4/30/n1423755...</td>\n",
       "      <td>[{\"cmtStatus\": \"噓\", \"cmtPoster\": \"unima\", \"cmt...</td>\n",
       "      <td>114.39.34.219</td>\n",
       "      <td>2024-05-02 02:19:38</td>\n",
       "      <td>ptt</td>\n",
       "    </tr>\n",
       "    <tr>\n",
       "      <th>4</th>\n",
       "      <td>5</td>\n",
       "      <td>https://www.ptt.cc/bbs/Tech_Job/M.1714571028.A...</td>\n",
       "      <td>[心得]電子業PM面試紀錄（長文）</td>\n",
       "      <td>2024-05-01 21:43:46</td>\n",
       "      <td>tin8420</td>\n",
       "      <td>Tech_Job</td>\n",
       "      <td>https://reurl.cc/ezOm9x\\n網誌版\\n\\n商科學士29y，傳產PM+生...</td>\n",
       "      <td>[{\"cmtStatus\": \"推\", \"cmtPoster\": \"KMTlikesshit...</td>\n",
       "      <td>118.231.160.114</td>\n",
       "      <td>2024-05-02 02:19:38</td>\n",
       "      <td>ptt</td>\n",
       "    </tr>\n",
       "  </tbody>\n",
       "</table>\n",
       "</div>"
      ],
      "text/plain": [
       "  system_id                                             artUrl  \\\n",
       "0         1  https://www.ptt.cc/bbs/Tech_Job/M.1714553434.A...   \n",
       "1         2  https://www.ptt.cc/bbs/Tech_Job/M.1714555446.A...   \n",
       "2         3  https://www.ptt.cc/bbs/Tech_Job/M.1714556891.A...   \n",
       "3         4  https://www.ptt.cc/bbs/Tech_Job/M.1714570922.A...   \n",
       "4         5  https://www.ptt.cc/bbs/Tech_Job/M.1714571028.A...   \n",
       "\n",
       "                      artTitle              artDate     artPoster artCatagory  \\\n",
       "0  Re:[面試]104待遇寫4w~4.8w你應該開多少？  2024-05-01 16:50:30          LaAc    Tech_Job   \n",
       "1       [新聞]年後轉職最熱門公司出爐前三名台積電、  2024-05-01 17:24:04  qazxc1156892    Tech_Job   \n",
       "2      [新聞]訓練台版AI語言模型，許永真：盼讓百工  2024-05-01 17:48:08         pl132    Tech_Job   \n",
       "3       [新聞]首屆台法科研會議吳政忠：六大領域可望  2024-05-01 21:41:58   createlight    Tech_Job   \n",
       "4            [心得]電子業PM面試紀錄（長文）  2024-05-01 21:43:46       tin8420    Tech_Job   \n",
       "\n",
       "                                          artContent  \\\n",
       "0  很明顯絕對會，我之前面試時就遇過，而且明擺著開太高不會用你。\\n\\n前陣子業界很凍（現在好像...   \n",
       "1  新聞標題： 年後轉職最熱門公司出爐 前三名台積電、華碩、台達電\\n\\n2024-05-01 ...   \n",
       "2  訓練台版 AI 語言模型，許永真：盼讓百工百業商用\\nhttps://technews.tw...   \n",
       "3  https://www.epochtimes.com/b5/24/4/30/n1423755...   \n",
       "4  https://reurl.cc/ezOm9x\\n網誌版\\n\\n商科學士29y，傳產PM+生...   \n",
       "\n",
       "                                          artComment             e_ip  \\\n",
       "0  [{\"cmtStatus\": \"推\", \"cmtPoster\": \"kwanles\", \"c...    27.53.241.196   \n",
       "1  [{\"cmtStatus\": \"→\", \"cmtPoster\": \"abc21086999\"...    223.137.1.131   \n",
       "2  [{\"cmtStatus\": \"→\", \"cmtPoster\": \"ling621\", \"c...    180.177.2.112   \n",
       "3  [{\"cmtStatus\": \"噓\", \"cmtPoster\": \"unima\", \"cmt...    114.39.34.219   \n",
       "4  [{\"cmtStatus\": \"推\", \"cmtPoster\": \"KMTlikesshit...  118.231.160.114   \n",
       "\n",
       "          insertedDate dataSource  \n",
       "0  2024-05-02 02:19:38        ptt  \n",
       "1  2024-05-02 02:19:38        ptt  \n",
       "2  2024-05-02 02:19:38        ptt  \n",
       "3  2024-05-02 02:19:38        ptt  \n",
       "4  2024-05-02 02:19:38        ptt  "
      ]
     },
     "execution_count": 2,
     "metadata": {},
     "output_type": "execute_result"
    }
   ],
   "source": [
    "df = pd.read_csv('data/Merged.csv')\n",
    "df.head()"
   ]
  },
  {
   "cell_type": "code",
   "execution_count": null,
   "id": "7de37aeb2e37ec7e",
   "metadata": {
    "ExecuteTime": {
     "end_time": "2024-06-02T14:32:06.485222Z",
     "start_time": "2024-06-02T14:32:06.475223Z"
    },
    "id": "7de37aeb2e37ec7e",
    "outputId": "8edecdb9-8f33-4efd-cd96-46cd53e9fbbb"
   },
   "outputs": [
    {
     "name": "stdout",
     "output_type": "stream",
     "text": [
      "<class 'pandas.core.frame.DataFrame'>\n",
      "RangeIndex: 2456 entries, 0 to 2455\n",
      "Data columns (total 11 columns):\n",
      " #   Column        Non-Null Count  Dtype \n",
      "---  ------        --------------  ----- \n",
      " 0   system_id     2456 non-null   object\n",
      " 1   artUrl        2456 non-null   object\n",
      " 2   artTitle      2456 non-null   object\n",
      " 3   artDate       2456 non-null   object\n",
      " 4   artPoster     2456 non-null   object\n",
      " 5   artCatagory   2456 non-null   object\n",
      " 6   artContent    2456 non-null   object\n",
      " 7   artComment    2456 non-null   object\n",
      " 8   e_ip          2439 non-null   object\n",
      " 9   insertedDate  2456 non-null   object\n",
      " 10  dataSource    2456 non-null   object\n",
      "dtypes: object(11)\n",
      "memory usage: 211.2+ KB\n"
     ]
    }
   ],
   "source": [
    "df.info()"
   ]
  },
  {
   "cell_type": "code",
   "execution_count": null,
   "id": "ce1fd3a337ffc043",
   "metadata": {
    "ExecuteTime": {
     "end_time": "2024-06-02T16:35:58.723070Z",
     "start_time": "2024-06-02T16:35:58.701071Z"
    },
    "id": "ce1fd3a337ffc043"
   },
   "outputs": [],
   "source": [
    "# 載入字型、設定字體\n",
    "font_manager.fontManager.addfont('font/TaipeiSansTCBeta-Regular.ttf')\n",
    "plt.rcParams['font.sans-serif'] = ['Taipei Sans TC Beta']\n",
    "plt.rcParams['font.size'] = '16'"
   ]
  },
  {
   "cell_type": "markdown",
   "id": "aa6975e7fbddcf9a",
   "metadata": {
    "id": "aa6975e7fbddcf9a"
   },
   "source": [
    "### 資料前處理"
   ]
  },
  {
   "cell_type": "code",
   "execution_count": null,
   "id": "a15781bf2944600e",
   "metadata": {
    "ExecuteTime": {
     "end_time": "2024-06-02T14:36:40.919140Z",
     "start_time": "2024-06-02T14:36:40.875140Z"
    },
    "id": "a15781bf2944600e",
    "outputId": "b7fcd951-9be2-408a-acb5-80abbbab6fc2"
   },
   "outputs": [
    {
     "data": {
      "text/html": [
       "<div>\n",
       "<style scoped>\n",
       "    .dataframe tbody tr th:only-of-type {\n",
       "        vertical-align: middle;\n",
       "    }\n",
       "\n",
       "    .dataframe tbody tr th {\n",
       "        vertical-align: top;\n",
       "    }\n",
       "\n",
       "    .dataframe thead th {\n",
       "        text-align: right;\n",
       "    }\n",
       "</style>\n",
       "<table border=\"1\" class=\"dataframe\">\n",
       "  <thead>\n",
       "    <tr style=\"text-align: right;\">\n",
       "      <th></th>\n",
       "      <th>artTitle</th>\n",
       "      <th>artDate</th>\n",
       "      <th>artContent</th>\n",
       "      <th>sentence</th>\n",
       "    </tr>\n",
       "  </thead>\n",
       "  <tbody>\n",
       "    <tr>\n",
       "      <th>0</th>\n",
       "      <td>Re:[面試]104待遇寫4w~4.8w你應該開多少？</td>\n",
       "      <td>2024-05-01 16:50:30</td>\n",
       "      <td>很明顯絕對會，我之前面試時就遇過，而且明擺著開太高不會用你。\\n\\n前陣子業界很凍（現在好像...</td>\n",
       "      <td>很明顯絕對會，我之前面試時就遇過，而且明擺著開太高不會用你。。前陣子業界很凍（現在好像也.....</td>\n",
       "    </tr>\n",
       "    <tr>\n",
       "      <th>1</th>\n",
       "      <td>[新聞]年後轉職最熱門公司出爐前三名台積電、</td>\n",
       "      <td>2024-05-01 17:24:04</td>\n",
       "      <td>新聞標題： 年後轉職最熱門公司出爐 前三名台積電、華碩、台達電\\n\\n2024-05-01 ...</td>\n",
       "      <td>新聞標題： 年後轉職最熱門公司出爐 前三名台積電、華碩、台達電。2024-05-01 11:...</td>\n",
       "    </tr>\n",
       "    <tr>\n",
       "      <th>2</th>\n",
       "      <td>[新聞]訓練台版AI語言模型，許永真：盼讓百工</td>\n",
       "      <td>2024-05-01 17:48:08</td>\n",
       "      <td>訓練台版 AI 語言模型，許永真：盼讓百工百業商用\\nhttps://technews.tw...</td>\n",
       "      <td>訓練台版 AI 語言模型，許永真：盼讓百工百業商用， 4 月啟動 TAIDE 計畫，研發台版...</td>\n",
       "    </tr>\n",
       "    <tr>\n",
       "      <th>3</th>\n",
       "      <td>[新聞]首屆台法科研會議吳政忠：六大領域可望</td>\n",
       "      <td>2024-05-01 21:41:58</td>\n",
       "      <td>https://www.epochtimes.com/b5/24/4/30/n1423755...</td>\n",
       "      <td>吳政忠：六大領域可望締造雙贏， Giry）。（國，科會提供）。【大紀元2024年04月30...</td>\n",
       "    </tr>\n",
       "    <tr>\n",
       "      <th>4</th>\n",
       "      <td>[心得]電子業PM面試紀錄（長文）</td>\n",
       "      <td>2024-05-01 21:43:46</td>\n",
       "      <td>https://reurl.cc/ezOm9x\\n網誌版\\n\\n商科學士29y，傳產PM+生...</td>\n",
       "      <td>威剛 — Sales PM，面試地點在中和，結果搞小烏龍跑錯棟+樓層，有稍微遲到一下下，感...</td>\n",
       "    </tr>\n",
       "    <tr>\n",
       "      <th>5</th>\n",
       "      <td>[新聞]美晶片陷缺工危機須靠外籍人才填補</td>\n",
       "      <td>2024-05-01 21:44:23</td>\n",
       "      <td>https://ec.ltn.com.tw/article/breakingnews/465...</td>\n",
       "      <td>須靠外籍人才填補。2024/05/01 15:57， Long）、「商業市場」（Marke...</td>\n",
       "    </tr>\n",
       "    <tr>\n",
       "      <th>6</th>\n",
       "      <td>[新聞]那「一通電話」白打了？台積電恐放棄在</td>\n",
       "      <td>2024-05-02 08:06:20</td>\n",
       "      <td>那「一通電話」白打了？台積電恐放棄在銅鑼建先進封裝廠\\n\\n〔記者洪友芳／新竹報導〕\\n晶圓...</td>\n",
       "      <td>那「一通電話」白打了？台積電恐放棄在銅鑼建先進封裝廠。〔記者洪友芳／新竹報導〕，晶圓代工廠力...</td>\n",
       "    </tr>\n",
       "    <tr>\n",
       "      <th>7</th>\n",
       "      <td>科企裁員潮｜Google裁減至少200名「核心」團隊</td>\n",
       "      <td>2024-05-02 11:47:00</td>\n",
       "      <td>https://inews.hket.com/article/3753047\\n科企裁員潮｜...</td>\n",
       "      <td>部分職位轉移到印度和墨西哥。，Google母企Alphabet（美：GOOG）據報上星期公...</td>\n",
       "    </tr>\n",
       "    <tr>\n",
       "      <th>8</th>\n",
       "      <td>[新聞]今年要繳稅335萬…眾人秒跪！10年工程師</td>\n",
       "      <td>2024-05-02 12:43:42</td>\n",
       "      <td>今年要繳稅335萬…眾人秒跪！10年工程師：感謝「海產店」照顧\\nhttps://finan...</td>\n",
       "      <td>今年要繳稅335萬…眾人秒跪！10年工程師：感謝「海產店」照顧， 該哭該笑？，」「我繳3萬多...</td>\n",
       "    </tr>\n",
       "    <tr>\n",
       "      <th>9</th>\n",
       "      <td>[新聞]外媒：台積電作為世界領導者股價實在太</td>\n",
       "      <td>2024-05-02 14:03:51</td>\n",
       "      <td>外媒：台積電作為世界領導者 股價實在太便宜\\n\\n高佳菁／核稿編輯\\n\\n〔財經頻道／綜合報...</td>\n",
       "      <td>外媒：台積電作為世界領導者 股價實在太便宜。高佳菁／核稿編輯。〔財經頻道／綜合報導〕《電訊報...</td>\n",
       "    </tr>\n",
       "  </tbody>\n",
       "</table>\n",
       "</div>"
      ],
      "text/plain": [
       "                      artTitle              artDate  \\\n",
       "0  Re:[面試]104待遇寫4w~4.8w你應該開多少？  2024-05-01 16:50:30   \n",
       "1       [新聞]年後轉職最熱門公司出爐前三名台積電、  2024-05-01 17:24:04   \n",
       "2      [新聞]訓練台版AI語言模型，許永真：盼讓百工  2024-05-01 17:48:08   \n",
       "3       [新聞]首屆台法科研會議吳政忠：六大領域可望  2024-05-01 21:41:58   \n",
       "4            [心得]電子業PM面試紀錄（長文）  2024-05-01 21:43:46   \n",
       "5         [新聞]美晶片陷缺工危機須靠外籍人才填補  2024-05-01 21:44:23   \n",
       "6       [新聞]那「一通電話」白打了？台積電恐放棄在  2024-05-02 08:06:20   \n",
       "7   科企裁員潮｜Google裁減至少200名「核心」團隊  2024-05-02 11:47:00   \n",
       "8    [新聞]今年要繳稅335萬…眾人秒跪！10年工程師  2024-05-02 12:43:42   \n",
       "9       [新聞]外媒：台積電作為世界領導者股價實在太  2024-05-02 14:03:51   \n",
       "\n",
       "                                          artContent  \\\n",
       "0  很明顯絕對會，我之前面試時就遇過，而且明擺著開太高不會用你。\\n\\n前陣子業界很凍（現在好像...   \n",
       "1  新聞標題： 年後轉職最熱門公司出爐 前三名台積電、華碩、台達電\\n\\n2024-05-01 ...   \n",
       "2  訓練台版 AI 語言模型，許永真：盼讓百工百業商用\\nhttps://technews.tw...   \n",
       "3  https://www.epochtimes.com/b5/24/4/30/n1423755...   \n",
       "4  https://reurl.cc/ezOm9x\\n網誌版\\n\\n商科學士29y，傳產PM+生...   \n",
       "5  https://ec.ltn.com.tw/article/breakingnews/465...   \n",
       "6  那「一通電話」白打了？台積電恐放棄在銅鑼建先進封裝廠\\n\\n〔記者洪友芳／新竹報導〕\\n晶圓...   \n",
       "7  https://inews.hket.com/article/3753047\\n科企裁員潮｜...   \n",
       "8  今年要繳稅335萬…眾人秒跪！10年工程師：感謝「海產店」照顧\\nhttps://finan...   \n",
       "9  外媒：台積電作為世界領導者 股價實在太便宜\\n\\n高佳菁／核稿編輯\\n\\n〔財經頻道／綜合報...   \n",
       "\n",
       "                                            sentence  \n",
       "0  很明顯絕對會，我之前面試時就遇過，而且明擺著開太高不會用你。。前陣子業界很凍（現在好像也.....  \n",
       "1  新聞標題： 年後轉職最熱門公司出爐 前三名台積電、華碩、台達電。2024-05-01 11:...  \n",
       "2  訓練台版 AI 語言模型，許永真：盼讓百工百業商用， 4 月啟動 TAIDE 計畫，研發台版...  \n",
       "3   吳政忠：六大領域可望締造雙贏， Giry）。（國，科會提供）。【大紀元2024年04月30...  \n",
       "4   威剛 — Sales PM，面試地點在中和，結果搞小烏龍跑錯棟+樓層，有稍微遲到一下下，感...  \n",
       "5   須靠外籍人才填補。2024/05/01 15:57， Long）、「商業市場」（Marke...  \n",
       "6  那「一通電話」白打了？台積電恐放棄在銅鑼建先進封裝廠。〔記者洪友芳／新竹報導〕，晶圓代工廠力...  \n",
       "7  　部分職位轉移到印度和墨西哥。，Google母企Alphabet（美：GOOG）據報上星期公...  \n",
       "8  今年要繳稅335萬…眾人秒跪！10年工程師：感謝「海產店」照顧， 該哭該笑？，」「我繳3萬多...  \n",
       "9  外媒：台積電作為世界領導者 股價實在太便宜。高佳菁／核稿編輯。〔財經頻道／綜合報導〕《電訊報...  "
      ]
     },
     "execution_count": 5,
     "metadata": {},
     "output_type": "execute_result"
    }
   ],
   "source": [
    "# 複製原始資料集\n",
    "clear_df = df.copy()\n",
    "\n",
    "#去除本次不會用到的欄位\n",
    "drop_cols = ['system_id', 'artUrl', 'artPoster', 'artCatagory', 'artComment', 'insertedDate', 'dataSource', 'e_ip']\n",
    "clear_df.drop(drop_cols, axis = 1, inplace = True)\n",
    "\n",
    "#去除文章內容為空值的筆數\n",
    "clear_df.dropna(subset = ['artContent'], axis=0, how='any', inplace=True)\n",
    "\n",
    "#新增['sentence']欄位，用'。'取代'\\n\\n'，並移除'\\n'\n",
    "clear_df['sentence'] = clear_df['artContent'].str.replace(r'\\n\\n','。', regex=True)\n",
    "clear_df['sentence'] = clear_df['sentence'].str.replace(r'\\n','，', regex=True)\n",
    "\n",
    "#移除內文中的網址\n",
    "clear_df['sentence'] = clear_df['sentence'].replace(r'http\\S+', '', regex=True).replace(r'www\\S+', '', regex=True)\n",
    "\n",
    "clear_df.head(10)"
   ]
  },
  {
   "cell_type": "markdown",
   "id": "3bad41f51efe03eb",
   "metadata": {
    "id": "3bad41f51efe03eb"
   },
   "source": [
    "### 斷句"
   ]
  },
  {
   "cell_type": "code",
   "execution_count": null,
   "id": "56158a19533caa20",
   "metadata": {
    "ExecuteTime": {
     "end_time": "2024-06-02T14:36:42.498372Z",
     "start_time": "2024-06-02T14:36:42.211854Z"
    },
    "id": "56158a19533caa20",
    "outputId": "1134930e-aed6-4553-8683-462a42338de6"
   },
   "outputs": [
    {
     "data": {
      "text/html": [
       "<div>\n",
       "<style scoped>\n",
       "    .dataframe tbody tr th:only-of-type {\n",
       "        vertical-align: middle;\n",
       "    }\n",
       "\n",
       "    .dataframe tbody tr th {\n",
       "        vertical-align: top;\n",
       "    }\n",
       "\n",
       "    .dataframe thead th {\n",
       "        text-align: right;\n",
       "    }\n",
       "</style>\n",
       "<table border=\"1\" class=\"dataframe\">\n",
       "  <thead>\n",
       "    <tr style=\"text-align: right;\">\n",
       "      <th></th>\n",
       "      <th>artTitle</th>\n",
       "      <th>artDate</th>\n",
       "      <th>artContent</th>\n",
       "      <th>sentence</th>\n",
       "    </tr>\n",
       "  </thead>\n",
       "  <tbody>\n",
       "    <tr>\n",
       "      <th>0</th>\n",
       "      <td>Re:[面試]104待遇寫4w~4.8w你應該開多少？</td>\n",
       "      <td>2024-05-01 16:50:30</td>\n",
       "      <td>很明顯絕對會，我之前面試時就遇過，而且明擺著開太高不會用你。\\n\\n前陣子業界很凍（現在好像...</td>\n",
       "      <td>很明顯絕對會</td>\n",
       "    </tr>\n",
       "    <tr>\n",
       "      <th>1</th>\n",
       "      <td>Re:[面試]104待遇寫4w~4.8w你應該開多少？</td>\n",
       "      <td>2024-05-01 16:50:30</td>\n",
       "      <td>很明顯絕對會，我之前面試時就遇過，而且明擺著開太高不會用你。\\n\\n前陣子業界很凍（現在好像...</td>\n",
       "      <td>我之前面試時就遇過</td>\n",
       "    </tr>\n",
       "    <tr>\n",
       "      <th>2</th>\n",
       "      <td>Re:[面試]104待遇寫4w~4.8w你應該開多少？</td>\n",
       "      <td>2024-05-01 16:50:30</td>\n",
       "      <td>很明顯絕對會，我之前面試時就遇過，而且明擺著開太高不會用你。\\n\\n前陣子業界很凍（現在好像...</td>\n",
       "      <td>而且明擺著開太高不會用你</td>\n",
       "    </tr>\n",
       "    <tr>\n",
       "      <th>3</th>\n",
       "      <td>Re:[面試]104待遇寫4w~4.8w你應該開多少？</td>\n",
       "      <td>2024-05-01 16:50:30</td>\n",
       "      <td>很明顯絕對會，我之前面試時就遇過，而且明擺著開太高不會用你。\\n\\n前陣子業界很凍（現在好像...</td>\n",
       "      <td>前陣子業界很凍現在好像也</td>\n",
       "    </tr>\n",
       "    <tr>\n",
       "      <th>4</th>\n",
       "      <td>Re:[面試]104待遇寫4w~4.8w你應該開多少？</td>\n",
       "      <td>2024-05-01 16:50:30</td>\n",
       "      <td>很明顯絕對會，我之前面試時就遇過，而且明擺著開太高不會用你。\\n\\n前陣子業界很凍（現在好像...</td>\n",
       "      <td>我又剛好快畢業了</td>\n",
       "    </tr>\n",
       "  </tbody>\n",
       "</table>\n",
       "</div>"
      ],
      "text/plain": [
       "                      artTitle              artDate  \\\n",
       "0  Re:[面試]104待遇寫4w~4.8w你應該開多少？  2024-05-01 16:50:30   \n",
       "1  Re:[面試]104待遇寫4w~4.8w你應該開多少？  2024-05-01 16:50:30   \n",
       "2  Re:[面試]104待遇寫4w~4.8w你應該開多少？  2024-05-01 16:50:30   \n",
       "3  Re:[面試]104待遇寫4w~4.8w你應該開多少？  2024-05-01 16:50:30   \n",
       "4  Re:[面試]104待遇寫4w~4.8w你應該開多少？  2024-05-01 16:50:30   \n",
       "\n",
       "                                          artContent      sentence  \n",
       "0  很明顯絕對會，我之前面試時就遇過，而且明擺著開太高不會用你。\\n\\n前陣子業界很凍（現在好像...        很明顯絕對會  \n",
       "1  很明顯絕對會，我之前面試時就遇過，而且明擺著開太高不會用你。\\n\\n前陣子業界很凍（現在好像...     我之前面試時就遇過  \n",
       "2  很明顯絕對會，我之前面試時就遇過，而且明擺著開太高不會用你。\\n\\n前陣子業界很凍（現在好像...  而且明擺著開太高不會用你  \n",
       "3  很明顯絕對會，我之前面試時就遇過，而且明擺著開太高不會用你。\\n\\n前陣子業界很凍（現在好像...  前陣子業界很凍現在好像也  \n",
       "4  很明顯絕對會，我之前面試時就遇過，而且明擺著開太高不會用你。\\n\\n前陣子業界很凍（現在好像...      我又剛好快畢業了  "
      ]
     },
     "execution_count": 6,
     "metadata": {},
     "output_type": "execute_result"
    }
   ],
   "source": [
    "# 去除一些不需要的欄位\n",
    "clear_df['sentence'] = clear_df['sentence'].str.split(\"[,，。！!？?]{1,}\")\n",
    "meta_data = clear_df.explode('sentence').reset_index(drop=True)\n",
    "\n",
    "meta_data['sentence'] = meta_data['sentence'].apply(lambda x: re.sub('[^\\u4e00-\\u9fff]+', '',x))\n",
    "\n",
    "meta_data.head()"
   ]
  },
  {
   "cell_type": "markdown",
   "id": "b474b6278d8d5677",
   "metadata": {
    "id": "b474b6278d8d5677"
   },
   "source": [
    "### NER(用CKIP套件)"
   ]
  },
  {
   "cell_type": "code",
   "execution_count": null,
   "id": "45ec9afc80b06db",
   "metadata": {
    "ExecuteTime": {
     "end_time": "2024-06-02T14:40:36.258987Z",
     "start_time": "2024-06-02T14:40:21.902854Z"
    },
    "id": "45ec9afc80b06db",
    "outputId": "1572aa5a-2555-4d43-98de-6e4348ebb11c"
   },
   "outputs": [
    {
     "name": "stderr",
     "output_type": "stream",
     "text": [
      "2025-06-10 18:53:17.788286: I tensorflow/core/util/port.cc:113] oneDNN custom operations are on. You may see slightly different numerical results due to floating-point round-off errors from different computation orders. To turn them off, set the environment variable `TF_ENABLE_ONEDNN_OPTS=0`.\n",
      "2025-06-10 18:53:17.808421: E external/local_xla/xla/stream_executor/cuda/cuda_dnn.cc:9261] Unable to register cuDNN factory: Attempting to register factory for plugin cuDNN when one has already been registered\n",
      "2025-06-10 18:53:17.808445: E external/local_xla/xla/stream_executor/cuda/cuda_fft.cc:607] Unable to register cuFFT factory: Attempting to register factory for plugin cuFFT when one has already been registered\n",
      "2025-06-10 18:53:17.809067: E external/local_xla/xla/stream_executor/cuda/cuda_blas.cc:1515] Unable to register cuBLAS factory: Attempting to register factory for plugin cuBLAS when one has already been registered\n",
      "2025-06-10 18:53:17.812549: I tensorflow/core/platform/cpu_feature_guard.cc:182] This TensorFlow binary is optimized to use available CPU instructions in performance-critical operations.\n",
      "To enable the following instructions: AVX2 AVX_VNNI FMA, in other operations, rebuild TensorFlow with the appropriate compiler flags.\n",
      "2025-06-10 18:53:18.243519: W tensorflow/compiler/tf2tensorrt/utils/py_utils.cc:38] TF-TRT Warning: Could not find TensorRT\n"
     ]
    }
   ],
   "source": [
    "# 初始化 ckip 工具\n",
    "ws_driver  = CkipWordSegmenter(model_name=\"ckiplab/bert-base-chinese-ws\", device=0)\n",
    "pos_driver = CkipPosTagger(model_name=\"ckiplab/bert-base-chinese-pos\", device=0)\n",
    "ner_driver = CkipNerChunker(model_name=\"ckiplab/bert-base-chinese-ner\", device=0)"
   ]
  },
  {
   "cell_type": "markdown",
   "id": "e27a9b0a",
   "metadata": {
    "id": "e27a9b0a"
   },
   "source": [
    "### 開始情緒分析"
   ]
  },
  {
   "cell_type": "code",
   "execution_count": null,
   "id": "17686c48d1bedab2",
   "metadata": {
    "ExecuteTime": {
     "end_time": "2024-06-02T15:01:24.560756Z",
     "start_time": "2024-06-02T14:47:56.962078Z"
    },
    "id": "17686c48d1bedab2",
    "outputId": "73de0316-7152-4b7b-cc3f-e014941400a5"
   },
   "outputs": [
    {
     "name": "stderr",
     "output_type": "stream",
     "text": [
      "Tokenization: 100%|██████████| 137709/137709 [00:01<00:00, 102094.81it/s]\n",
      "Inference: 100%|██████████| 494/494 [00:53<00:00,  9.29it/s]\n",
      "Tokenization: 100%|██████████| 137709/137709 [00:00<00:00, 163032.52it/s]\n",
      "Inference: 100%|██████████| 494/494 [00:53<00:00,  9.20it/s]\n",
      "Tokenization: 100%|██████████| 137709/137709 [00:01<00:00, 92343.41it/s] \n",
      "Inference: 100%|██████████| 494/494 [00:54<00:00,  9.13it/s]\n"
     ]
    }
   ],
   "source": [
    "text = meta_data['sentence'].tolist()\n",
    "\n",
    "# 執行\n",
    "ws = ws_driver(text)\n",
    "pos = pos_driver(ws)\n",
    "ner = ner_driver(text)"
   ]
  },
  {
   "cell_type": "code",
   "execution_count": null,
   "id": "dacc225b197309b1",
   "metadata": {
    "ExecuteTime": {
     "end_time": "2024-06-02T15:01:39.215297Z",
     "start_time": "2024-06-02T15:01:37.519298Z"
    },
    "id": "dacc225b197309b1",
    "outputId": "774b29f6-a2c3-4613-8f57-a78516d89ed0"
   },
   "outputs": [
    {
     "data": {
      "text/html": [
       "<div>\n",
       "<style scoped>\n",
       "    .dataframe tbody tr th:only-of-type {\n",
       "        vertical-align: middle;\n",
       "    }\n",
       "\n",
       "    .dataframe tbody tr th {\n",
       "        vertical-align: top;\n",
       "    }\n",
       "\n",
       "    .dataframe thead th {\n",
       "        text-align: right;\n",
       "    }\n",
       "</style>\n",
       "<table border=\"1\" class=\"dataframe\">\n",
       "  <thead>\n",
       "    <tr style=\"text-align: right;\">\n",
       "      <th></th>\n",
       "      <th>sentence</th>\n",
       "      <th>packed_sentence</th>\n",
       "      <th>entities</th>\n",
       "    </tr>\n",
       "  </thead>\n",
       "  <tbody>\n",
       "    <tr>\n",
       "      <th>0</th>\n",
       "      <td>很明顯絕對會</td>\n",
       "      <td>很(Dfa)　明顯(VH)　絕對(D)　會(D)</td>\n",
       "      <td>[]</td>\n",
       "    </tr>\n",
       "    <tr>\n",
       "      <th>1</th>\n",
       "      <td>我之前面試時就遇過</td>\n",
       "      <td>我(Nh)　之前(Ng)　面試(VC)　時(Ng)　就(D)　遇(VK)　過(Di)</td>\n",
       "      <td>[]</td>\n",
       "    </tr>\n",
       "    <tr>\n",
       "      <th>2</th>\n",
       "      <td>而且明擺著開太高不會用你</td>\n",
       "      <td>而且(Cbb)　明(VH)　擺(VC)　著(Di)　開(VC)　太(Dfa)　高(VH)　不...</td>\n",
       "      <td>[]</td>\n",
       "    </tr>\n",
       "    <tr>\n",
       "      <th>3</th>\n",
       "      <td>前陣子業界很凍現在好像也</td>\n",
       "      <td>前(Nes)　陣子(Nd)　業界(Nc)　很(Dfa)　凍(VH)　現在(Nd)　好像(D)...</td>\n",
       "      <td>[]</td>\n",
       "    </tr>\n",
       "    <tr>\n",
       "      <th>4</th>\n",
       "      <td>我又剛好快畢業了</td>\n",
       "      <td>我(Nh)　又(D)　剛好(Da)　快(D)　畢業(VH)　了(T)</td>\n",
       "      <td>[]</td>\n",
       "    </tr>\n",
       "  </tbody>\n",
       "</table>\n",
       "</div>"
      ],
      "text/plain": [
       "       sentence                                    packed_sentence entities\n",
       "0        很明顯絕對會                           很(Dfa)　明顯(VH)　絕對(D)　會(D)       []\n",
       "1     我之前面試時就遇過         我(Nh)　之前(Ng)　面試(VC)　時(Ng)　就(D)　遇(VK)　過(Di)       []\n",
       "2  而且明擺著開太高不會用你  而且(Cbb)　明(VH)　擺(VC)　著(Di)　開(VC)　太(Dfa)　高(VH)　不...       []\n",
       "3  前陣子業界很凍現在好像也  前(Nes)　陣子(Nd)　業界(Nc)　很(Dfa)　凍(VH)　現在(Nd)　好像(D)...       []\n",
       "4      我又剛好快畢業了                 我(Nh)　又(D)　剛好(Da)　快(D)　畢業(VH)　了(T)       []"
      ]
     },
     "execution_count": 9,
     "metadata": {},
     "output_type": "execute_result"
    }
   ],
   "source": [
    "# 將斷詞以及 pos 結果合在一起顯示\n",
    "def pack_ws_pos_sentence(sentence_ws, sentence_pos):\n",
    "   assert len(sentence_ws) == len(sentence_pos)\n",
    "   res = []\n",
    "   for word_ws, word_pos in zip(sentence_ws, sentence_pos):\n",
    "      res.append(f\"{word_ws}({word_pos})\")\n",
    "   return \"\\u3000\".join(res)\n",
    "\n",
    "sentences, packed_sentences, entities = [], [], []\n",
    "# 儲存結果\n",
    "for sentence, sentence_ws, sentence_pos, sentence_ner in zip(text, ws, pos, ner):\n",
    "   sentences.append(sentence)\n",
    "   packed_sentences.append(pack_ws_pos_sentence(sentence_ws, sentence_pos))\n",
    "   entities.append([str(entity) for entity in sentence_ner])\n",
    "\n",
    "# 將結果存在一個 dataframe 中\n",
    "ner_results = pd.DataFrame({\n",
    "   'sentence': sentences,\n",
    "   'packed_sentence': packed_sentences,\n",
    "   'entities': entities\n",
    "})\n",
    "\n",
    "ner_results.head()"
   ]
  },
  {
   "cell_type": "code",
   "execution_count": null,
   "id": "5a0752c06837276f",
   "metadata": {
    "ExecuteTime": {
     "end_time": "2024-06-02T15:30:43.182770Z",
     "start_time": "2024-06-02T15:30:43.149770Z"
    },
    "id": "5a0752c06837276f",
    "outputId": "01475dd3-97e0-4d9c-cd5e-2693b5c37f37"
   },
   "outputs": [
    {
     "data": {
      "text/html": [
       "<div>\n",
       "<style scoped>\n",
       "    .dataframe tbody tr th:only-of-type {\n",
       "        vertical-align: middle;\n",
       "    }\n",
       "\n",
       "    .dataframe tbody tr th {\n",
       "        vertical-align: top;\n",
       "    }\n",
       "\n",
       "    .dataframe thead th {\n",
       "        text-align: right;\n",
       "    }\n",
       "</style>\n",
       "<table border=\"1\" class=\"dataframe\">\n",
       "  <thead>\n",
       "    <tr style=\"text-align: right;\">\n",
       "      <th></th>\n",
       "      <th>sentence</th>\n",
       "      <th>packed_sentence</th>\n",
       "      <th>entities</th>\n",
       "    </tr>\n",
       "  </thead>\n",
       "  <tbody>\n",
       "    <tr>\n",
       "      <th>0</th>\n",
       "      <td>很明顯絕對會</td>\n",
       "      <td>很(Dfa)　明顯(VH)　絕對(D)　會(D)</td>\n",
       "      <td>[]</td>\n",
       "    </tr>\n",
       "    <tr>\n",
       "      <th>1</th>\n",
       "      <td>我之前面試時就遇過</td>\n",
       "      <td>我(Nh)　之前(Ng)　面試(VC)　時(Ng)　就(D)　遇(VK)　過(Di)</td>\n",
       "      <td>[]</td>\n",
       "    </tr>\n",
       "    <tr>\n",
       "      <th>2</th>\n",
       "      <td>而且明擺著開太高不會用你</td>\n",
       "      <td>而且(Cbb)　明(VH)　擺(VC)　著(Di)　開(VC)　太(Dfa)　高(VH)　不...</td>\n",
       "      <td>[]</td>\n",
       "    </tr>\n",
       "    <tr>\n",
       "      <th>3</th>\n",
       "      <td>前陣子業界很凍現在好像也</td>\n",
       "      <td>前(Nes)　陣子(Nd)　業界(Nc)　很(Dfa)　凍(VH)　現在(Nd)　好像(D)...</td>\n",
       "      <td>[]</td>\n",
       "    </tr>\n",
       "    <tr>\n",
       "      <th>4</th>\n",
       "      <td>我又剛好快畢業了</td>\n",
       "      <td>我(Nh)　又(D)　剛好(Da)　快(D)　畢業(VH)　了(T)</td>\n",
       "      <td>[]</td>\n",
       "    </tr>\n",
       "  </tbody>\n",
       "</table>\n",
       "</div>"
      ],
      "text/plain": [
       "       sentence                                    packed_sentence entities\n",
       "0        很明顯絕對會                           很(Dfa)　明顯(VH)　絕對(D)　會(D)       []\n",
       "1     我之前面試時就遇過         我(Nh)　之前(Ng)　面試(VC)　時(Ng)　就(D)　遇(VK)　過(Di)       []\n",
       "2  而且明擺著開太高不會用你  而且(Cbb)　明(VH)　擺(VC)　著(Di)　開(VC)　太(Dfa)　高(VH)　不...       []\n",
       "3  前陣子業界很凍現在好像也  前(Nes)　陣子(Nd)　業界(Nc)　很(Dfa)　凍(VH)　現在(Nd)　好像(D)...       []\n",
       "4      我又剛好快畢業了                 我(Nh)　又(D)　剛好(Da)　快(D)　畢業(VH)　了(T)       []"
      ]
     },
     "execution_count": 10,
     "metadata": {},
     "output_type": "execute_result"
    }
   ],
   "source": [
    "# 移除空句子\n",
    "ner_results = ner_results[ner_results['sentence'] != '']\n",
    "ner_results.head()"
   ]
  },
  {
   "cell_type": "code",
   "execution_count": null,
   "id": "9cdd86b6e89fe0a6",
   "metadata": {
    "ExecuteTime": {
     "end_time": "2024-06-02T15:41:53.261032Z",
     "start_time": "2024-06-02T15:41:52.975034Z"
    },
    "id": "9cdd86b6e89fe0a6"
   },
   "outputs": [],
   "source": [
    "# 儲存 NER 結果\n",
    "ner_results.to_csv('data/ner_results.csv', index=False)"
   ]
  },
  {
   "cell_type": "markdown",
   "id": "222ef900",
   "metadata": {
    "id": "222ef900"
   },
   "source": [
    "### 解析 NER 和 POS 結果"
   ]
  },
  {
   "cell_type": "code",
   "execution_count": null,
   "id": "36458af457557513",
   "metadata": {
    "ExecuteTime": {
     "end_time": "2024-06-02T17:33:18.370509Z",
     "start_time": "2024-06-02T17:33:17.991472Z"
    },
    "id": "36458af457557513",
    "outputId": "6d5da8f0-0276-4d98-b3c6-ba55b86ecaf1"
   },
   "outputs": [
    {
     "data": {
      "text/html": [
       "<div>\n",
       "<style scoped>\n",
       "    .dataframe tbody tr th:only-of-type {\n",
       "        vertical-align: middle;\n",
       "    }\n",
       "\n",
       "    .dataframe tbody tr th {\n",
       "        vertical-align: top;\n",
       "    }\n",
       "\n",
       "    .dataframe thead th {\n",
       "        text-align: right;\n",
       "    }\n",
       "</style>\n",
       "<table border=\"1\" class=\"dataframe\">\n",
       "  <thead>\n",
       "    <tr style=\"text-align: right;\">\n",
       "      <th></th>\n",
       "      <th>sentence</th>\n",
       "      <th>packed_sentence</th>\n",
       "      <th>entities</th>\n",
       "    </tr>\n",
       "  </thead>\n",
       "  <tbody>\n",
       "    <tr>\n",
       "      <th>0</th>\n",
       "      <td>很明顯絕對會</td>\n",
       "      <td>很(Dfa)　明顯(VH)　絕對(D)　會(D)</td>\n",
       "      <td>[]</td>\n",
       "    </tr>\n",
       "    <tr>\n",
       "      <th>1</th>\n",
       "      <td>我之前面試時就遇過</td>\n",
       "      <td>我(Nh)　之前(Ng)　面試(VC)　時(Ng)　就(D)　遇(VK)　過(Di)</td>\n",
       "      <td>[]</td>\n",
       "    </tr>\n",
       "    <tr>\n",
       "      <th>2</th>\n",
       "      <td>而且明擺著開太高不會用你</td>\n",
       "      <td>而且(Cbb)　明(VH)　擺(VC)　著(Di)　開(VC)　太(Dfa)　高(VH)　不...</td>\n",
       "      <td>[]</td>\n",
       "    </tr>\n",
       "    <tr>\n",
       "      <th>3</th>\n",
       "      <td>前陣子業界很凍現在好像也</td>\n",
       "      <td>前(Nes)　陣子(Nd)　業界(Nc)　很(Dfa)　凍(VH)　現在(Nd)　好像(D)...</td>\n",
       "      <td>[]</td>\n",
       "    </tr>\n",
       "    <tr>\n",
       "      <th>4</th>\n",
       "      <td>我又剛好快畢業了</td>\n",
       "      <td>我(Nh)　又(D)　剛好(Da)　快(D)　畢業(VH)　了(T)</td>\n",
       "      <td>[]</td>\n",
       "    </tr>\n",
       "  </tbody>\n",
       "</table>\n",
       "</div>"
      ],
      "text/plain": [
       "       sentence                                    packed_sentence entities\n",
       "0        很明顯絕對會                           很(Dfa)　明顯(VH)　絕對(D)　會(D)       []\n",
       "1     我之前面試時就遇過         我(Nh)　之前(Ng)　面試(VC)　時(Ng)　就(D)　遇(VK)　過(Di)       []\n",
       "2  而且明擺著開太高不會用你  而且(Cbb)　明(VH)　擺(VC)　著(Di)　開(VC)　太(Dfa)　高(VH)　不...       []\n",
       "3  前陣子業界很凍現在好像也  前(Nes)　陣子(Nd)　業界(Nc)　很(Dfa)　凍(VH)　現在(Nd)　好像(D)...       []\n",
       "4      我又剛好快畢業了                 我(Nh)　又(D)　剛好(Da)　快(D)　畢業(VH)　了(T)       []"
      ]
     },
     "execution_count": 12,
     "metadata": {},
     "output_type": "execute_result"
    }
   ],
   "source": [
    "ner_results = pd.read_csv('data/ner_results.csv')\n",
    "ner_results.head()"
   ]
  },
  {
   "cell_type": "markdown",
   "id": "8b5baca4a4e2d984",
   "metadata": {
    "id": "8b5baca4a4e2d984"
   },
   "source": [
    "### 解析 packed_sentence"
   ]
  },
  {
   "cell_type": "code",
   "execution_count": null,
   "id": "6da499dfc4247f88",
   "metadata": {
    "ExecuteTime": {
     "end_time": "2024-06-02T17:33:28.859561Z",
     "start_time": "2024-06-02T17:33:19.788578Z"
    },
    "id": "6da499dfc4247f88",
    "outputId": "0da5d00f-3fcb-4082-8c36-61775704ffc6"
   },
   "outputs": [
    {
     "name": "stderr",
     "output_type": "stream",
     "text": [
      "100%|██████████| 126364/126364 [00:05<00:00, 23520.19it/s]\n"
     ]
    }
   ],
   "source": [
    "tqdm.pandas()\n",
    "\n",
    "# Define a function to split the packed_sentence into word and pos\n",
    "def split_packed_sentence(packed_sentence):\n",
    "    words, pos_tags = [], []\n",
    "    for token in packed_sentence.split('　'):\n",
    "        word, pos = token.rsplit('(', 1)\n",
    "        pos = pos.rstrip(')')\n",
    "        words.append(word)\n",
    "        pos_tags.append(pos)\n",
    "    return words, pos_tags\n",
    "\n",
    "# Apply the function to split the packed_sentence\n",
    "ner_results[['words', 'pos_tags']] = ner_results['packed_sentence'].progress_apply(lambda x: pd.Series(split_packed_sentence(x)))\n",
    "\n",
    "# Explode the lists to create a row for each word-pos pair\n",
    "exploded_data = ner_results[['sentence', 'words', 'pos_tags']].explode(['words', 'pos_tags'])\n",
    "\n",
    "# Rename columns for clarity\n",
    "exploded_data = exploded_data.rename(columns={'words': 'word', 'pos_tags': 'pos'})"
   ]
  },
  {
   "cell_type": "code",
   "execution_count": null,
   "id": "551f04a2f125330",
   "metadata": {
    "ExecuteTime": {
     "end_time": "2024-06-02T17:33:29.593453Z",
     "start_time": "2024-06-02T17:33:29.580453Z"
    },
    "id": "551f04a2f125330",
    "outputId": "07bc74de-a3a8-458a-b9be-994f09c9d9a4"
   },
   "outputs": [
    {
     "data": {
      "text/html": [
       "<div>\n",
       "<style scoped>\n",
       "    .dataframe tbody tr th:only-of-type {\n",
       "        vertical-align: middle;\n",
       "    }\n",
       "\n",
       "    .dataframe tbody tr th {\n",
       "        vertical-align: top;\n",
       "    }\n",
       "\n",
       "    .dataframe thead th {\n",
       "        text-align: right;\n",
       "    }\n",
       "</style>\n",
       "<table border=\"1\" class=\"dataframe\">\n",
       "  <thead>\n",
       "    <tr style=\"text-align: right;\">\n",
       "      <th></th>\n",
       "      <th>sentence</th>\n",
       "      <th>word</th>\n",
       "      <th>pos</th>\n",
       "    </tr>\n",
       "  </thead>\n",
       "  <tbody>\n",
       "    <tr>\n",
       "      <th>0</th>\n",
       "      <td>很明顯絕對會</td>\n",
       "      <td>很</td>\n",
       "      <td>Dfa</td>\n",
       "    </tr>\n",
       "    <tr>\n",
       "      <th>0</th>\n",
       "      <td>很明顯絕對會</td>\n",
       "      <td>明顯</td>\n",
       "      <td>VH</td>\n",
       "    </tr>\n",
       "    <tr>\n",
       "      <th>0</th>\n",
       "      <td>很明顯絕對會</td>\n",
       "      <td>絕對</td>\n",
       "      <td>D</td>\n",
       "    </tr>\n",
       "    <tr>\n",
       "      <th>0</th>\n",
       "      <td>很明顯絕對會</td>\n",
       "      <td>會</td>\n",
       "      <td>D</td>\n",
       "    </tr>\n",
       "    <tr>\n",
       "      <th>1</th>\n",
       "      <td>我之前面試時就遇過</td>\n",
       "      <td>我</td>\n",
       "      <td>Nh</td>\n",
       "    </tr>\n",
       "  </tbody>\n",
       "</table>\n",
       "</div>"
      ],
      "text/plain": [
       "    sentence word  pos\n",
       "0     很明顯絕對會    很  Dfa\n",
       "0     很明顯絕對會   明顯   VH\n",
       "0     很明顯絕對會   絕對    D\n",
       "0     很明顯絕對會    會    D\n",
       "1  我之前面試時就遇過    我   Nh"
      ]
     },
     "execution_count": 14,
     "metadata": {},
     "output_type": "execute_result"
    }
   ],
   "source": [
    "exploded_data.head()"
   ]
  },
  {
   "cell_type": "markdown",
   "id": "5c62d19e045bd084",
   "metadata": {
    "id": "5c62d19e045bd084"
   },
   "source": [
    "### 解析 entities"
   ]
  },
  {
   "cell_type": "code",
   "execution_count": null,
   "id": "2d0dc10a0afa4e02",
   "metadata": {
    "ExecuteTime": {
     "end_time": "2024-06-02T17:33:34.678426Z",
     "start_time": "2024-06-02T17:33:30.669559Z"
    },
    "id": "2d0dc10a0afa4e02",
    "outputId": "43ba98c2-f87b-4a51-e8e6-c502c9059451"
   },
   "outputs": [
    {
     "name": "stderr",
     "output_type": "stream",
     "text": [
      "100%|██████████| 126364/126364 [00:02<00:00, 47142.45it/s]\n"
     ]
    }
   ],
   "source": [
    "# Function to extract words and their NER tags from the given example\n",
    "def extract_words_and_ner(row):\n",
    "    sentence = row['sentence']\n",
    "    packed_sentence = row['packed_sentence']\n",
    "    entities_str = row['entities']\n",
    "\n",
    "    words = [token.rsplit('(', 1)[0] for token in packed_sentence.split('　')]\n",
    "    entity_tuples = []\n",
    "\n",
    "    if entities_str and entities_str != \"[]\":\n",
    "        try:\n",
    "            entity_list = ast.literal_eval(entities_str)\n",
    "            for entity in entity_list:\n",
    "                # Manually parse the entity string\n",
    "                start_idx = entity.find(\"word='\") + len(\"word='\")\n",
    "                end_idx = entity.find(\"', ner='\")\n",
    "                word = entity[start_idx:end_idx]\n",
    "\n",
    "                start_ner_idx = entity.find(\"ner='\") + len(\"ner='\")\n",
    "                end_ner_idx = entity.find(\"', idx=\")\n",
    "                ner = entity[start_ner_idx:end_ner_idx]\n",
    "\n",
    "                entity_tuples.append((sentence, word, ner))\n",
    "        except (ValueError, SyntaxError):\n",
    "            pass\n",
    "\n",
    "    return entity_tuples\n",
    "\n",
    "# Apply the function to extract words and NER tags for each row\n",
    "extracted_data = []\n",
    "for _, row in tqdm(ner_results.iterrows(), total=len(ner_results)):\n",
    "    extracted_data.extend(extract_words_and_ner(row))\n",
    "\n",
    "# Create a new DataFrame with the extracted data\n",
    "ner_extracted_df = pd.DataFrame(extracted_data, columns=['sentence', 'word', 'ner'])"
   ]
  },
  {
   "cell_type": "code",
   "execution_count": null,
   "id": "2604bd561cbd7b19",
   "metadata": {
    "ExecuteTime": {
     "end_time": "2024-06-02T17:33:34.694426Z",
     "start_time": "2024-06-02T17:33:34.680427Z"
    },
    "id": "2604bd561cbd7b19",
    "outputId": "cc5da1e3-b73f-4567-c17d-74ce7f21001d"
   },
   "outputs": [
    {
     "data": {
      "text/html": [
       "<div>\n",
       "<style scoped>\n",
       "    .dataframe tbody tr th:only-of-type {\n",
       "        vertical-align: middle;\n",
       "    }\n",
       "\n",
       "    .dataframe tbody tr th {\n",
       "        vertical-align: top;\n",
       "    }\n",
       "\n",
       "    .dataframe thead th {\n",
       "        text-align: right;\n",
       "    }\n",
       "</style>\n",
       "<table border=\"1\" class=\"dataframe\">\n",
       "  <thead>\n",
       "    <tr style=\"text-align: right;\">\n",
       "      <th></th>\n",
       "      <th>sentence</th>\n",
       "      <th>word</th>\n",
       "      <th>ner</th>\n",
       "    </tr>\n",
       "  </thead>\n",
       "  <tbody>\n",
       "    <tr>\n",
       "      <th>0</th>\n",
       "      <td>還有一個小小的考核</td>\n",
       "      <td>一</td>\n",
       "      <td>CARDINAL</td>\n",
       "    </tr>\n",
       "    <tr>\n",
       "      <th>1</th>\n",
       "      <td>如果開太高就不會有二面了這是原話</td>\n",
       "      <td>二面</td>\n",
       "      <td>CARDINAL</td>\n",
       "    </tr>\n",
       "    <tr>\n",
       "      <th>2</th>\n",
       "      <td>雖然知道講萬一定最好</td>\n",
       "      <td>萬</td>\n",
       "      <td>CARDINAL</td>\n",
       "    </tr>\n",
       "    <tr>\n",
       "      <th>3</th>\n",
       "      <td>所以講了個萬的範圍</td>\n",
       "      <td>萬</td>\n",
       "      <td>CARDINAL</td>\n",
       "    </tr>\n",
       "    <tr>\n",
       "      <th>4</th>\n",
       "      <td>新聞標題年後轉職最熱門公司出爐前三名台積電華碩台達電</td>\n",
       "      <td>年後</td>\n",
       "      <td>DATE</td>\n",
       "    </tr>\n",
       "  </tbody>\n",
       "</table>\n",
       "</div>"
      ],
      "text/plain": [
       "                     sentence word       ner\n",
       "0                   還有一個小小的考核    一  CARDINAL\n",
       "1            如果開太高就不會有二面了這是原話   二面  CARDINAL\n",
       "2                  雖然知道講萬一定最好    萬  CARDINAL\n",
       "3                   所以講了個萬的範圍    萬  CARDINAL\n",
       "4  新聞標題年後轉職最熱門公司出爐前三名台積電華碩台達電   年後      DATE"
      ]
     },
     "execution_count": 16,
     "metadata": {},
     "output_type": "execute_result"
    }
   ],
   "source": [
    "ner_extracted_df.head()"
   ]
  },
  {
   "cell_type": "markdown",
   "id": "f2f0df6c47b2a40",
   "metadata": {
    "id": "f2f0df6c47b2a40"
   },
   "source": [
    "### 資料分析"
   ]
  },
  {
   "cell_type": "code",
   "execution_count": null,
   "id": "447c8c4ac5262cbe",
   "metadata": {
    "ExecuteTime": {
     "end_time": "2024-06-02T17:33:36.695022Z",
     "start_time": "2024-06-02T17:33:36.662022Z"
    },
    "id": "447c8c4ac5262cbe",
    "outputId": "0ab59596-19af-4314-e5cb-296918ac1b11"
   },
   "outputs": [
    {
     "data": {
      "text/html": [
       "<div>\n",
       "<style scoped>\n",
       "    .dataframe tbody tr th:only-of-type {\n",
       "        vertical-align: middle;\n",
       "    }\n",
       "\n",
       "    .dataframe tbody tr th {\n",
       "        vertical-align: top;\n",
       "    }\n",
       "\n",
       "    .dataframe thead th {\n",
       "        text-align: right;\n",
       "    }\n",
       "</style>\n",
       "<table border=\"1\" class=\"dataframe\">\n",
       "  <thead>\n",
       "    <tr style=\"text-align: right;\">\n",
       "      <th></th>\n",
       "      <th>ner</th>\n",
       "      <th>count</th>\n",
       "    </tr>\n",
       "  </thead>\n",
       "  <tbody>\n",
       "    <tr>\n",
       "      <th>0</th>\n",
       "      <td>ORG</td>\n",
       "      <td>11334</td>\n",
       "    </tr>\n",
       "    <tr>\n",
       "      <th>1</th>\n",
       "      <td>GPE</td>\n",
       "      <td>8624</td>\n",
       "    </tr>\n",
       "    <tr>\n",
       "      <th>2</th>\n",
       "      <td>DATE</td>\n",
       "      <td>7497</td>\n",
       "    </tr>\n",
       "    <tr>\n",
       "      <th>3</th>\n",
       "      <td>PERSON</td>\n",
       "      <td>7087</td>\n",
       "    </tr>\n",
       "    <tr>\n",
       "      <th>4</th>\n",
       "      <td>CARDINAL</td>\n",
       "      <td>5002</td>\n",
       "    </tr>\n",
       "    <tr>\n",
       "      <th>5</th>\n",
       "      <td>MONEY</td>\n",
       "      <td>1579</td>\n",
       "    </tr>\n",
       "    <tr>\n",
       "      <th>6</th>\n",
       "      <td>LAW</td>\n",
       "      <td>1313</td>\n",
       "    </tr>\n",
       "    <tr>\n",
       "      <th>7</th>\n",
       "      <td>TIME</td>\n",
       "      <td>1228</td>\n",
       "    </tr>\n",
       "    <tr>\n",
       "      <th>8</th>\n",
       "      <td>ORDINAL</td>\n",
       "      <td>1033</td>\n",
       "    </tr>\n",
       "    <tr>\n",
       "      <th>9</th>\n",
       "      <td>LOC</td>\n",
       "      <td>973</td>\n",
       "    </tr>\n",
       "    <tr>\n",
       "      <th>10</th>\n",
       "      <td>LANGUAGE</td>\n",
       "      <td>742</td>\n",
       "    </tr>\n",
       "    <tr>\n",
       "      <th>11</th>\n",
       "      <td>NORP</td>\n",
       "      <td>730</td>\n",
       "    </tr>\n",
       "    <tr>\n",
       "      <th>12</th>\n",
       "      <td>FAC</td>\n",
       "      <td>636</td>\n",
       "    </tr>\n",
       "    <tr>\n",
       "      <th>13</th>\n",
       "      <td>QUANTITY</td>\n",
       "      <td>164</td>\n",
       "    </tr>\n",
       "    <tr>\n",
       "      <th>14</th>\n",
       "      <td>EVENT</td>\n",
       "      <td>155</td>\n",
       "    </tr>\n",
       "    <tr>\n",
       "      <th>15</th>\n",
       "      <td>WORK_OF_ART</td>\n",
       "      <td>147</td>\n",
       "    </tr>\n",
       "    <tr>\n",
       "      <th>16</th>\n",
       "      <td>PRODUCT</td>\n",
       "      <td>117</td>\n",
       "    </tr>\n",
       "    <tr>\n",
       "      <th>17</th>\n",
       "      <td>PERCENT</td>\n",
       "      <td>52</td>\n",
       "    </tr>\n",
       "  </tbody>\n",
       "</table>\n",
       "</div>"
      ],
      "text/plain": [
       "            ner  count\n",
       "0           ORG  11334\n",
       "1           GPE   8624\n",
       "2          DATE   7497\n",
       "3        PERSON   7087\n",
       "4      CARDINAL   5002\n",
       "5         MONEY   1579\n",
       "6           LAW   1313\n",
       "7          TIME   1228\n",
       "8       ORDINAL   1033\n",
       "9           LOC    973\n",
       "10     LANGUAGE    742\n",
       "11         NORP    730\n",
       "12          FAC    636\n",
       "13     QUANTITY    164\n",
       "14        EVENT    155\n",
       "15  WORK_OF_ART    147\n",
       "16      PRODUCT    117\n",
       "17      PERCENT     52"
      ]
     },
     "execution_count": 17,
     "metadata": {},
     "output_type": "execute_result"
    }
   ],
   "source": [
    "ner_count = pd.DataFrame(ner_extracted_df['ner'].value_counts())\n",
    "ner_count.reset_index(inplace=True)\n",
    "\n",
    "ner_count.columns = ['ner', 'count']\n",
    "ner_count"
   ]
  },
  {
   "cell_type": "markdown",
   "id": "50616bb6",
   "metadata": {
    "id": "50616bb6"
   },
   "source": [
    "### 繪製 NER 類別"
   ]
  },
  {
   "cell_type": "code",
   "execution_count": null,
   "id": "665378ea6d34dd69",
   "metadata": {
    "ExecuteTime": {
     "end_time": "2024-06-02T16:25:46.558444Z",
     "start_time": "2024-06-02T16:25:46.448448Z"
    },
    "id": "665378ea6d34dd69",
    "outputId": "8c3b317a-dda5-48ef-83ea-ec2e15662b12"
   },
   "outputs": [
    {
     "data": {
      "image/png": "[encoded data removed]",
      "text/plain": [
       "<Figure size 1200x600 with 1 Axes>"
      ]
     },
     "metadata": {},
     "output_type": "display_data"
    }
   ],
   "source": [
    "# 繪製 NER 類別\n",
    "plt.figure(figsize=(12, 6))\n",
    "plt.barh(ner_count['ner'], ner_count['count'], color='skyblue')\n",
    "plt.xlabel('Count')\n",
    "plt.ylabel('NER Categories')\n",
    "plt.title('NER Categories Count')\n",
    "plt.gca().invert_yaxis()\n",
    "plt.show()"
   ]
  },
  {
   "cell_type": "markdown",
   "id": "fb6ee32f771d1551",
   "metadata": {
    "id": "fb6ee32f771d1551"
   },
   "source": []
  },
  {
   "cell_type": "markdown",
   "id": "a3f49c3fef72fcb5",
   "metadata": {
    "id": "a3f49c3fef72fcb5"
   },
   "source": [
    "### NER 類別計數分析\n",
    "\n",
    "1. 主要類別：\n",
    "    - ORG（組織）：最常被提及的實體，表明討論中涉及大量關於公司、機構或其他與AI相關的組織。\n",
    "    - GPE（地理政治實體）：頻繁提及，反映出討論涉及國家、城市或地區，這些地方與AI的發展息息相關。\n",
    "    - DATE（日期）：經常提及特定日期，這表明討論內容可能涉及AI相關的事件、發佈或時間表。\n",
    "    - PERSON（人物）：多次提及個人，表明討論涉及AI領域的重要人物，如研究人員、CEO或有影響力的發言人。\n",
    "\n",
    "2. 中等頻率：\n",
    "    - CARDINAL（基數）：討論中使用的數字，反映出AI討論中涉及大量的統計、測量或計數內容。\n",
    "    - MONEY（金額）：提及財務數字，表示討論中涉及AI項目的資金、投資或成本。\n",
    "    - ORDINAL（序數）：顯示排名或排序的重要性，反映出AI討論中的序列或順序。\n",
    "\n",
    "3. 較少提及的類別：\n",
    "    - NORP（民族、宗教或政治團體）：涉及特定群體或社群，與AI討論相關。\n",
    "    - LOC（地點）：未在GPE中涵蓋的特定地點，顯示與AI相關活動的地點。\n",
    "    - TIME（時間）：特定時間，反映AI相關活動或事件的時間。\n",
    "\n",
    "4. 少量提及的類別：\n",
    "    - LANGUAGE（語言）、EVENT（事件）、QUANTITY（數量）、WORK_OF_ART（藝術品）、FAC（設施）、PRODUCT（產品）、LAW（法律）、PERCENT（百分比）：這些類別提及次數較少，但在AI討論中仍具有特定的相關性，例如AI系統使用的語言、特定事件、數量及法律或藝術方面的內容。"
   ]
  },
  {
   "cell_type": "code",
   "execution_count": null,
   "id": "d497240261e9ab14",
   "metadata": {
    "ExecuteTime": {
     "end_time": "2024-06-02T16:34:37.500062Z",
     "start_time": "2024-06-02T16:34:37.475063Z"
    },
    "id": "d497240261e9ab14",
    "outputId": "f28e2c63-4ba9-4d1d-8922-b5a794201724"
   },
   "outputs": [
    {
     "data": {
      "text/html": [
       "<div>\n",
       "<style scoped>\n",
       "    .dataframe tbody tr th:only-of-type {\n",
       "        vertical-align: middle;\n",
       "    }\n",
       "\n",
       "    .dataframe tbody tr th {\n",
       "        vertical-align: top;\n",
       "    }\n",
       "\n",
       "    .dataframe thead th {\n",
       "        text-align: right;\n",
       "    }\n",
       "</style>\n",
       "<table border=\"1\" class=\"dataframe\">\n",
       "  <thead>\n",
       "    <tr style=\"text-align: right;\">\n",
       "      <th></th>\n",
       "      <th>sentence</th>\n",
       "      <th>word</th>\n",
       "      <th>ner</th>\n",
       "    </tr>\n",
       "  </thead>\n",
       "  <tbody>\n",
       "    <tr>\n",
       "      <th>6</th>\n",
       "      <td>新聞標題年後轉職最熱門公司出爐前三名台積電華碩台達電</td>\n",
       "      <td>台積電</td>\n",
       "      <td>ORG</td>\n",
       "    </tr>\n",
       "    <tr>\n",
       "      <th>7</th>\n",
       "      <td>經濟日報記者葉卉軒台北即時報導</td>\n",
       "      <td>經濟日報</td>\n",
       "      <td>ORG</td>\n",
       "    </tr>\n",
       "    <tr>\n",
       "      <th>11</th>\n",
       "      <td>比薪水年後薪水情報兌換最多的前三名公司為台積電華碩台達</td>\n",
       "      <td>台積電華碩台達</td>\n",
       "      <td>ORG</td>\n",
       "    </tr>\n",
       "    <tr>\n",
       "      <th>12</th>\n",
       "      <td>其中華碩的兌換次數為</td>\n",
       "      <td>華碩</td>\n",
       "      <td>ORG</td>\n",
       "    </tr>\n",
       "    <tr>\n",
       "      <th>15</th>\n",
       "      <td>近年積極擴廠全世界都在看的半導體龍頭台積電</td>\n",
       "      <td>台積電</td>\n",
       "      <td>ORG</td>\n",
       "    </tr>\n",
       "  </tbody>\n",
       "</table>\n",
       "</div>"
      ],
      "text/plain": [
       "                       sentence     word  ner\n",
       "6    新聞標題年後轉職最熱門公司出爐前三名台積電華碩台達電      台積電  ORG\n",
       "7               經濟日報記者葉卉軒台北即時報導     經濟日報  ORG\n",
       "11  比薪水年後薪水情報兌換最多的前三名公司為台積電華碩台達  台積電華碩台達  ORG\n",
       "12                   其中華碩的兌換次數為       華碩  ORG\n",
       "15        近年積極擴廠全世界都在看的半導體龍頭台積電      台積電  ORG"
      ]
     },
     "execution_count": 19,
     "metadata": {},
     "output_type": "execute_result"
    }
   ],
   "source": [
    "# 篩選 NER 為 'ORG' 的資料\n",
    "filter_ner = ['ORG']\n",
    "org_data = ner_extracted_df[ner_extracted_df['ner'].isin(filter_ner)]\n",
    "org_data.head()"
   ]
  },
  {
   "cell_type": "code",
   "execution_count": null,
   "id": "9b749e004b605c9d",
   "metadata": {
    "ExecuteTime": {
     "end_time": "2024-06-02T16:39:16.118894Z",
     "start_time": "2024-06-02T16:39:16.019898Z"
    },
    "id": "9b749e004b605c9d",
    "outputId": "d3a8f3c7-1ddc-4457-d643-1cefb78851ae"
   },
   "outputs": [
    {
     "data": {
      "image/png": "[encoded data removed]",
      "text/plain": [
       "<Figure size 1200x600 with 1 Axes>"
      ]
     },
     "metadata": {},
     "output_type": "display_data"
    }
   ],
   "source": [
    "# 視覺化組織實體\n",
    "plt.figure(figsize=(12, 6))\n",
    "plt.barh(org_data\n",
    "['word'].value_counts().index[:10], org_data['word'].value_counts()[:10], color='skyblue')\n",
    "plt.xlabel('Count')\n",
    "plt.ylabel('Organization Entities')\n",
    "plt.title('Top 10 ORG 實體')\n",
    "plt.gca().invert_yaxis()\n",
    "plt.show()"
   ]
  },
  {
   "cell_type": "markdown",
   "id": "5c82d7986cab5534",
   "metadata": {
    "id": "5c82d7986cab5534"
   },
   "source": []
  },
  {
   "cell_type": "markdown",
   "id": "8ef2daf24f291415",
   "metadata": {
    "id": "8ef2daf24f291415"
   },
   "source": [
    "### 圖表分析：前十名組織實體\n",
    "\n",
    "1. 台積電：\n",
    "    - 分析：全球的晶圓技術的龍頭，提供最先進的 5nm、3nm 製程，是幾乎所有主要GPU（如 NVIDIA 的 H100／L40、Google 的 TPU 等）的代工夥伴。\n",
    "    - 影響：大多在討論台積電的布局、股價與訂單展望，以及台積電在國際供應鏈地位對台灣 AI 產業的帶動作用。\n",
    "\n",
    "2. 英特爾：\n",
    "    - 分析：橫跨 CPU、GPU 與 FPGA 的晶片大廠，近年透過 Xe GPU 與 Habana AI 加速器進軍資料中心 AI 市場，也持續推進與台積電、三星合作的委外製程。\n",
    "    - 影響：大多在討論英特爾的新技術、處理器產品或在AI領域的戰略部署。\n",
    "\n",
    "3. 輝達：\n",
    "    - 分析：AI 計算領域的龍頭，CUDA 軟體生態與 GPU 架構（Ampere、Hopper）主導了深度學習訓練與推論市場，其 DGX 系列、雲端 GPU 伺服器被廣泛引用。\n",
    "    - 影響：討論可能涉及其GPU技術、AI開發平台（如CUDA）及其在各種AI應用中的使用。\n",
    "\n",
    "4. 微軟\n",
    "    - 分析：微軟是全球領先的科技公司之一，其在AI軟體和雲端服務領域的投入和創新廣為人知。它的頻繁出現顯示出其在AI領域的顯著影響力。\n",
    "    - 影響：討論涵蓋微軟的AI平台、工具、研究計劃及與其他企業的合作等戰略布局。\n",
    "\n",
    "5. 教育部：\n",
    "    - 分析：國家教育主管機關，近年公告 AI 課綱修訂、AI 人才培育計畫，並補助大學及研究機構辦理 AI 相關競賽與工作坊。\n",
    "    - 影響：多為AI相關活動、公費研習班資訊分享、或新聞，透露出國家機關對AI人才培育的重視。\n",
    "\n",
    "6. 聯發科：\n",
    "    - 分析：聯發科是知名的晶片製造商，其產品廣泛應用於各種消費電子設備。其在AI討論中的出現表明其技術在相關應用中的重要性。\n",
    "    - 影響：大多在討論聯發科的股價新技術、晶片產品或在AI領域的戰略部署。\n",
    "\n",
    "7. 經濟日報：\n",
    "    - 分析：財經類主流媒體，定期發布 AI 產業新聞、市場報告及專欄評論，為投資人與產業觀察者提供最新動態。\n",
    "    - 影響：網友會轉貼該報有關 AI 上市公司財報、產能擴充、國際合作等報導，並在留言中延伸討論政策風向與投資策略。\n",
    "\n",
    "8. 華碩：\n",
    "    - 分析：PC 與伺服器硬體廠商，推出 ProArt AI 筆電、AI 伺服器主機板與加速卡，並與 NVIDIA、Intel 合作開發預載 AI 工具的整合方案。\n",
    "    - 影響：大多在討論華碩的股價、新技術、AI相關硬體產品或戰略部局。\n",
    "\n",
    "\n",
    "9. 蘋果：\n",
    "    - 分析：蘋果公司以其創新產品和技術著稱，在AI應用（如Siri、Face ID等）方面也有顯著貢獻。\n",
    "    - 影響：討論可能集中在蘋果的AI技術發布及其對消費者市場的影響。\n",
    "\n",
    "10. 國科會：\n",
    "    - 分析：前身為國家科學委員會，負責國家級科研計畫與補助，已整併為科技部，在 AI 基礎研究、智慧製造與產學合作等面向設有專案補助。\n",
    "    - 影響：多為網友轉貼新聞，分享國科會對於AI相關晶片、模型的研發補助，透露出國家機關對AI軟硬體發展的重視。\n",
    "\n",
    "### 缺失的英文組織\n",
    "\n",
    "在此圖表中，部分重要的英文名稱組織如OpenAI和Google等未能列出，可能是因為CKIP Transformer模型對中文識別效果較好，但對英文名稱識別存在不足。"
   ]
  },
  {
   "cell_type": "markdown",
   "id": "2db8f9cc5358bb4",
   "metadata": {
    "id": "2db8f9cc5358bb4"
   },
   "source": [
    "### 人物實體"
   ]
  },
  {
   "cell_type": "code",
   "execution_count": null,
   "id": "c94f4c8e6cc60768",
   "metadata": {
    "ExecuteTime": {
     "end_time": "2024-06-02T16:51:39.614964Z",
     "start_time": "2024-06-02T16:51:39.585964Z"
    },
    "id": "c94f4c8e6cc60768",
    "outputId": "3421d83d-889d-4fa8-b070-58154bb1a7db"
   },
   "outputs": [
    {
     "data": {
      "text/html": [
       "<div>\n",
       "<style scoped>\n",
       "    .dataframe tbody tr th:only-of-type {\n",
       "        vertical-align: middle;\n",
       "    }\n",
       "\n",
       "    .dataframe tbody tr th {\n",
       "        vertical-align: top;\n",
       "    }\n",
       "\n",
       "    .dataframe thead th {\n",
       "        text-align: right;\n",
       "    }\n",
       "</style>\n",
       "<table border=\"1\" class=\"dataframe\">\n",
       "  <thead>\n",
       "    <tr style=\"text-align: right;\">\n",
       "      <th></th>\n",
       "      <th>sentence</th>\n",
       "      <th>word</th>\n",
       "      <th>ner</th>\n",
       "    </tr>\n",
       "  </thead>\n",
       "  <tbody>\n",
       "    <tr>\n",
       "      <th>8</th>\n",
       "      <td>經濟日報記者葉卉軒台北即時報導</td>\n",
       "      <td>葉卉軒</td>\n",
       "      <td>PERSON</td>\n",
       "    </tr>\n",
       "    <tr>\n",
       "      <th>36</th>\n",
       "      <td>比薪水表示</td>\n",
       "      <td>比薪水</td>\n",
       "      <td>PERSON</td>\n",
       "    </tr>\n",
       "    <tr>\n",
       "      <th>39</th>\n",
       "      <td>許永真盼讓百工百業商用</td>\n",
       "      <td>許永真</td>\n",
       "      <td>PERSON</td>\n",
       "    </tr>\n",
       "    <tr>\n",
       "      <th>43</th>\n",
       "      <td>永真表示</td>\n",
       "      <td>永真</td>\n",
       "      <td>PERSON</td>\n",
       "    </tr>\n",
       "    <tr>\n",
       "      <th>51</th>\n",
       "      <td>台大資工系教授許永真以台灣的與大型語言</td>\n",
       "      <td>許永真</td>\n",
       "      <td>PERSON</td>\n",
       "    </tr>\n",
       "  </tbody>\n",
       "</table>\n",
       "</div>"
      ],
      "text/plain": [
       "               sentence word     ner\n",
       "8       經濟日報記者葉卉軒台北即時報導  葉卉軒  PERSON\n",
       "36                比薪水表示  比薪水  PERSON\n",
       "39          許永真盼讓百工百業商用  許永真  PERSON\n",
       "43                 永真表示   永真  PERSON\n",
       "51  台大資工系教授許永真以台灣的與大型語言  許永真  PERSON"
      ]
     },
     "execution_count": 21,
     "metadata": {},
     "output_type": "execute_result"
    }
   ],
   "source": [
    "# 篩選 NER 為 'PERSON' 的資料\n",
    "filter_ner = ['PERSON']\n",
    "person_data = ner_extracted_df[ner_extracted_df['ner'].isin(filter_ner)]\n",
    "person_data.head()"
   ]
  },
  {
   "cell_type": "code",
   "execution_count": null,
   "id": "47193c83d1d48644",
   "metadata": {
    "ExecuteTime": {
     "end_time": "2024-06-02T16:51:54.479383Z",
     "start_time": "2024-06-02T16:51:54.380384Z"
    },
    "id": "47193c83d1d48644",
    "outputId": "1b417016-12f1-4e5b-beff-65edecc61ec8"
   },
   "outputs": [
    {
     "data": {
      "image/png": "[encoded data removed]",
      "text/plain": [
       "<Figure size 1200x600 with 1 Axes>"
      ]
     },
     "metadata": {},
     "output_type": "display_data"
    }
   ],
   "source": [
    "# 視覺化人物實體\n",
    "plt.figure(figsize=(12, 6))\n",
    "plt.barh(person_data['word'].value_counts().index[:10], person_data['word'].value_counts()[:10], color='skyblue')\n",
    "plt.xlabel('Count')\n",
    "plt.ylabel('Person Entities')\n",
    "plt.title('Top 10 Person Entities')\n",
    "plt.gca().invert_yaxis()\n",
    "plt.show()"
   ]
  },
  {
   "cell_type": "markdown",
   "id": "f9bbe6b67cf2fb20",
   "metadata": {
    "id": "f9bbe6b67cf2fb20"
   },
   "source": [
    "### 圖表分析：前十名人物實體\n",
    "\n",
    "1. 黃仁勳：\n",
    "    - 分析：黃仁勳是 NVIDIA 的創辦人兼 CEO，他在 AI 領域中扮演著至關重要的角色。NVIDIA 的 GPU 技術對 AI 和深度學習的發展起到了巨大推動作用。\n",
    "    - 影響：討論可能涉及他在 AI 領域的技術貢獻、公司戰略及未來規劃。\n",
    "\n",
    "2. 川普：\n",
    "    - 分析：任內發起美中貿易戰，對AI晶片加徵關稅與出口管制，並批評台灣廠商瓜分美國市場。\n",
    "    - 影響：引發鄉民熱議，促使供應鏈重整與中國加速自研晶片。\n",
    "\n",
    "3. 輝達（NVIDIA）：\n",
    "    - 分析：輝達是全球領先的 GPU 製造商，其技術對於深度學習和 AI 的計算能力至關重要。這顯示出在 AI 討論中，輝達的技術和產品受到高度關注。\n",
    "    - 影響：討論可能涉及輝達的 GPU 技術、AI 平台（如 CUDA）、技術創新以及市場競爭力。\n",
    "    - 備註：輝達被誤認為是人物實體，實際上是組織實體。\n",
    "\n",
    "4. 馬斯克：\n",
    "    - 分析：埃隆·馬斯克（Elon Musk）是多家科技公司的創辦人，包括特斯拉和 SpaceX。他在 AI 領域尤其是自動駕駛技術方面有著重要影響，例如 Grok。\n",
    "    - 影響：討論可能集中在他對 AI 發展的看法、技術創新以及在相關公司的動向。\n",
    "\n",
    "5. 魏哲家：\n",
    "    - 分析：作為台積電（TSMC）執行長，魏哲家積極推進 3nm、5nm 等先進製程與 CoWoS 封裝解決方案，並與 NVIDIA、Apple、Google 等一線大廠簽訂長期 AI 晶片代工合約，確保產能與技術領先。\n",
    "    - 影響：討論多為新聞，介紹tsmc對ai晶片市場的布局。\n",
    "\n",
    "6. 亞馬遜：\n",
    "    - 分析：亞馬遜在 AI 技術應用、雲端服務和智能助理（如 Alexa）方面有著重要的地位，顯示出其在 AI 討論中的重要性。\n",
    "    - 影響：討論可能涉及亞馬遜的 AI 技術應用、AWS 服務及市場策略。\n",
    "    - 備註：亞馬遜被誤認為是人物實體，實際上是組織實體。\n",
    "\n",
    "#### 組織被誤判為人物\n",
    "在分析過程中，我們發現輝達（NVIDIA）、亞馬遜（Amazon）這些組織實體被誤判為人物實體。這反映 CKIP Transformer 模型在識別專有名詞時可能存在一定的誤差，需要進一步改進。"
   ]
  },
  {
   "cell_type": "markdown",
   "id": "3835950898e29c60",
   "metadata": {
    "id": "3835950898e29c60"
   },
   "source": [
    "### 事件實體"
   ]
  },
  {
   "cell_type": "code",
   "execution_count": null,
   "id": "8030c92235a485fb",
   "metadata": {
    "ExecuteTime": {
     "end_time": "2024-06-02T17:36:22.675080Z",
     "start_time": "2024-06-02T17:36:22.648569Z"
    },
    "id": "8030c92235a485fb",
    "outputId": "368b83ed-f7fd-4158-8383-652b7877701b"
   },
   "outputs": [
    {
     "data": {
      "text/html": [
       "<div>\n",
       "<style scoped>\n",
       "    .dataframe tbody tr th:only-of-type {\n",
       "        vertical-align: middle;\n",
       "    }\n",
       "\n",
       "    .dataframe tbody tr th {\n",
       "        vertical-align: top;\n",
       "    }\n",
       "\n",
       "    .dataframe thead th {\n",
       "        text-align: right;\n",
       "    }\n",
       "</style>\n",
       "<table border=\"1\" class=\"dataframe\">\n",
       "  <thead>\n",
       "    <tr style=\"text-align: right;\">\n",
       "      <th></th>\n",
       "      <th>sentence</th>\n",
       "      <th>word</th>\n",
       "      <th>ner</th>\n",
       "    </tr>\n",
       "  </thead>\n",
       "  <tbody>\n",
       "    <tr>\n",
       "      <th>877</th>\n",
       "      <td>年度股東大會上談及人工智慧時表示</td>\n",
       "      <td>年度股東大會</td>\n",
       "      <td>EVENT</td>\n",
       "    </tr>\n",
       "    <tr>\n",
       "      <th>1356</th>\n",
       "      <td>大馬亞洲防務展台灣軍工業力拚國際市場</td>\n",
       "      <td>大馬亞洲防務展</td>\n",
       "      <td>EVENT</td>\n",
       "    </tr>\n",
       "    <tr>\n",
       "      <th>1361</th>\n",
       "      <td>中央社記者黃自強吉隆坡日專電年亞洲防務展和亞洲國家安全展</td>\n",
       "      <td>亞洲防務展</td>\n",
       "      <td>EVENT</td>\n",
       "    </tr>\n",
       "    <tr>\n",
       "      <th>1362</th>\n",
       "      <td>中央社記者黃自強吉隆坡日專電年亞洲防務展和亞洲國家安全展</td>\n",
       "      <td>亞洲國家安全展</td>\n",
       "      <td>EVENT</td>\n",
       "    </tr>\n",
       "    <tr>\n",
       "      <th>1369</th>\n",
       "      <td>第屆亞洲防務展從日起到日在馬來西亞國際貿易與展覽中心舉行</td>\n",
       "      <td>第屆亞洲防務展</td>\n",
       "      <td>EVENT</td>\n",
       "    </tr>\n",
       "  </tbody>\n",
       "</table>\n",
       "</div>"
      ],
      "text/plain": [
       "                          sentence     word    ner\n",
       "877               年度股東大會上談及人工智慧時表示   年度股東大會  EVENT\n",
       "1356            大馬亞洲防務展台灣軍工業力拚國際市場  大馬亞洲防務展  EVENT\n",
       "1361  中央社記者黃自強吉隆坡日專電年亞洲防務展和亞洲國家安全展    亞洲防務展  EVENT\n",
       "1362  中央社記者黃自強吉隆坡日專電年亞洲防務展和亞洲國家安全展  亞洲國家安全展  EVENT\n",
       "1369  第屆亞洲防務展從日起到日在馬來西亞國際貿易與展覽中心舉行  第屆亞洲防務展  EVENT"
      ]
     },
     "execution_count": 23,
     "metadata": {},
     "output_type": "execute_result"
    }
   ],
   "source": [
    "# 篩選 NER 為 'EVENT' 的資料\n",
    "filter_ner = ['EVENT']\n",
    "event_data = ner_extracted_df[ner_extracted_df['ner'].isin(filter_ner)]\n",
    "event_data.head()"
   ]
  },
  {
   "cell_type": "code",
   "execution_count": null,
   "id": "7aa26e193bf62b5e",
   "metadata": {
    "ExecuteTime": {
     "end_time": "2024-06-02T17:36:23.483770Z",
     "start_time": "2024-06-02T17:36:23.374770Z"
    },
    "id": "7aa26e193bf62b5e",
    "outputId": "58ff47a1-fd33-4405-def3-63e5bfe3dd9a"
   },
   "outputs": [
    {
     "data": {
      "image/png": "[encoded data removed]",
      "text/plain": [
       "<Figure size 1200x600 with 1 Axes>"
      ]
     },
     "metadata": {},
     "output_type": "display_data"
    }
   ],
   "source": [
    "# 視覺化事件實體\n",
    "plt.figure(figsize=(12, 6))\n",
    "plt.barh(event_data['word'].value_counts().index[:10], event_data['word'].value_counts()[:10], color='skyblue')\n",
    "plt.xlabel('Count')\n",
    "plt.ylabel('Event Entities')\n",
    "plt.title('Top 10 Event Entities')\n",
    "plt.gca().invert_yaxis()\n",
    "plt.show()"
   ]
  },
  {
   "cell_type": "markdown",
   "id": "2d8375a3bb41c411",
   "metadata": {
    "id": "2d8375a3bb41c411"
   },
   "source": [
    "#### 重複事件名稱\n",
    "\n",
    "雖然有些事件如「烏克蘭戰爭」和「俄烏戰爭」在本質上是同一事件，但由於命名實體識別過程中的重複或不同表述，可能導致數據中的多次計數。"
   ]
  },
  {
   "cell_type": "markdown",
   "id": "a491baf1aa796f0a",
   "metadata": {
    "id": "a491baf1aa796f0a"
   },
   "source": [
    "### 修改「台北電腦展」為「台北國際電腦展」"
   ]
  },
  {
   "cell_type": "code",
   "execution_count": null,
   "id": "d12dd671a385cc8f",
   "metadata": {
    "ExecuteTime": {
     "end_time": "2024-06-02T17:38:05.192850Z",
     "start_time": "2024-06-02T17:38:05.188850Z"
    },
    "id": "d12dd671a385cc8f",
    "outputId": "8864ffe3-0c85-4219-8e07-2edc6b6f8510"
   },
   "outputs": [
    {
     "name": "stderr",
     "output_type": "stream",
     "text": [
      "/tmp/ipykernel_668250/324199244.py:2: SettingWithCopyWarning: \n",
      "A value is trying to be set on a copy of a slice from a DataFrame\n",
      "\n",
      "See the caveats in the documentation: https://pandas.pydata.org/pandas-docs/stable/user_guide/indexing.html#returning-a-view-versus-a-copy\n",
      "  event_data.loc[event_data['word'] == '台北電腦展', 'word'] = '台北國際電腦展'\n",
      "/tmp/ipykernel_668250/324199244.py:3: SettingWithCopyWarning: \n",
      "A value is trying to be set on a copy of a slice from a DataFrame\n",
      "\n",
      "See the caveats in the documentation: https://pandas.pydata.org/pandas-docs/stable/user_guide/indexing.html#returning-a-view-versus-a-copy\n",
      "  event_data.loc[event_data['word'] == '俄烏戰爭', 'word'] = '烏俄戰爭'\n"
     ]
    }
   ],
   "source": [
    "# 取代「俄烏戰爭」為、為「烏俄戰爭」\n",
    "event_data.loc[event_data['word'] == '台北電腦展', 'word'] = '台北國際電腦展'\n",
    "event_data.loc[event_data['word'] == '俄烏戰爭', 'word'] = '烏俄戰爭'"
   ]
  },
  {
   "cell_type": "code",
   "execution_count": null,
   "id": "3c9729d5b4b36f80",
   "metadata": {
    "ExecuteTime": {
     "end_time": "2024-06-02T17:38:06.216821Z",
     "start_time": "2024-06-02T17:38:06.093819Z"
    },
    "id": "3c9729d5b4b36f80",
    "outputId": "b48bce13-20f2-4fab-ab7a-99b6989195aa"
   },
   "outputs": [
    {
     "data": {
      "image/png": "[encoded data removed]",
      "text/plain": [
       "<Figure size 1200x600 with 1 Axes>"
      ]
     },
     "metadata": {},
     "output_type": "display_data"
    }
   ],
   "source": [
    "# 視覺化合併後的事件實體\n",
    "plt.figure(figsize=(12, 6))\n",
    "plt.barh(event_data['word'].value_counts().index[:10], event_data['word'].value_counts()[:10], color='skyblue')\n",
    "plt.xlabel('Count')\n",
    "plt.ylabel('Event Entities')\n",
    "plt.title('Top 10 Event Entities')\n",
    "plt.gca().invert_yaxis()\n",
    "plt.show()"
   ]
  },
  {
   "cell_type": "markdown",
   "id": "110f1540471e01d8",
   "metadata": {
    "id": "110f1540471e01d8"
   },
   "source": [
    "### 圖表分析：前十名事件實體（合併後）\n",
    "\n",
    "1. 台北國際電腦展：\n",
    "    - 分析：台北國際電腦展（COMPUTEX TAIPEI）是全球領先的電腦和科技展覽會，每年吸引眾多科技公司和專業人士參與。它是展示最新科技和創新產品的重要平台。\n",
    "    - 影響：討論可能涉及展覽會上展示的最新 AI 技術和產品，以及各大公司的參展情況和技術展示，反映出 AI 行業的最新動態和趨勢。\n",
    "\n",
    "2. 博覽會：\n",
    "    - 分析：作為對各類科技展覽的通用稱呼，「博覽會」經常出現在討論中，用以概括 COMPUTEX、SEMICON、CES 等不同主題的展覽。PTT 使用者習慣以「博覽會」來討論展會經驗、趨勢觀察與參展心得。\n",
    "    - 影響：反映出社群對各大科技展的整體關注，說明使用者在搜尋 AI 新技術或產品時，往往會先從博覽會報導與評論著手。\n",
    "\n",
    "3. 國際半導體展：\n",
    "    - 分析：例如 SEMICON Taiwan、SEMICON Southeast Asia 等專門聚焦半導體製程與材料的國際級展會，與 AI 晶片製造緊密相關。\n",
    "    - 影響：凸顯 PTT 上對半導體供應鏈與製造進度的重視，因為晶片技術直接決定 AI 訓練與推論的性能瓶頸。\n",
    "\n",
    "4. 亞洲防務展：\n",
    "    - 分析：此展會展示最新國防科技，包括無人機、自動化偵蒐系統與 AI 驅動的防禦平台。PTT 中常出現對防務展上 AI 應用、國產武器系統的討論。\n",
    "    - 影響：顯示社群對 AI 在國防領域的實戰價值與倫理議題有高度興趣，並持續追蹤國際軍備發展。\n",
    "\n",
    "5. 二戰：\n",
    "    - 分析：歷史上最大規模的軍事衝突，「二戰」常被用來做為一個時代的轉捩點。\n",
    "    - 影響：使用者大多為了敘述美國的現況，AI發展熱潮的一個鋪墊的名詞。\n",
    "\n",
    "6. 亞太技術年會：\n",
    "    - 分析：各國政府與業界代表在此年會上交流區域技術政策，包括 AI 產業扶植、標準制定與跨國合作。\n",
    "    - 影響：反映出決策層面對 AI 發展的重視，PTT 上的討論多聚焦於政策導向、補助資源與法規趨勢。\n",
    "\n",
    "7. 亞洲國家安全展：\n",
    "    - 分析：主打網路安全、關鍵基礎設施防護與 AI 防禦方案的專業展會，各大廠牌會展示最新資安產品。\n",
    "    - 影響：突顯 PTT 使用者對 AI 驅動的資安技術與威脅偵測的需求，以及對國家級資安策略的關切。\n",
    "\n",
    "8. 烏俄戰爭：\n",
    "    - 分析：俄烏衝突中大量使用無人機、電子戰與資訊作戰，成為 AI 技術落地的真實戰場案例。\n",
    "    - 影響：PTT 上透過烏俄戰爭討論 AI 在現代衝突中的角色。\n",
    "\n",
    "9. 美國消費性電子展：\n",
    "    - 分析：CES（Consumer Electronics Show）是全球最大規模的消費性電子展，許多 AI 智慧家居、車載系統和機器人首次亮相。\n",
    "    - 影響：說明 PTT 社群在消費市場對 AI 應用的期待與評測，並透過 CES 報導掌握廠商新動態。\n",
    "\n",
    "10. 美日韓三邊部長會議：\n",
    "    - 分析：三國部長級會議中，領袖們討論區域安全、半導體供應與數位經濟合作，AI 產業與政策協調為重要議題之一。\n",
    "    - 影響：反映社群對國際合作框架下 AI 競爭與治理的關注，並關切三方在技術標準與貿易政策上的協同效應。"
   ]
  },
  {
   "cell_type": "markdown",
   "id": "ea73cf0a6d0eb3cd",
   "metadata": {
    "id": "ea73cf0a6d0eb3cd"
   },
   "source": [
    "### 詞性分析"
   ]
  },
  {
   "cell_type": "code",
   "execution_count": null,
   "id": "6b1e99302c7a6371",
   "metadata": {
    "ExecuteTime": {
     "end_time": "2024-06-02T17:41:47.284225Z",
     "start_time": "2024-06-02T17:41:47.225718Z"
    },
    "id": "6b1e99302c7a6371",
    "outputId": "321e4865-ebc4-4bb5-cdea-c9bb1d2a5259"
   },
   "outputs": [
    {
     "data": {
      "text/html": [
       "<div>\n",
       "<style scoped>\n",
       "    .dataframe tbody tr th:only-of-type {\n",
       "        vertical-align: middle;\n",
       "    }\n",
       "\n",
       "    .dataframe tbody tr th {\n",
       "        vertical-align: top;\n",
       "    }\n",
       "\n",
       "    .dataframe thead th {\n",
       "        text-align: right;\n",
       "    }\n",
       "</style>\n",
       "<table border=\"1\" class=\"dataframe\">\n",
       "  <thead>\n",
       "    <tr style=\"text-align: right;\">\n",
       "      <th></th>\n",
       "      <th>pos</th>\n",
       "      <th>count</th>\n",
       "    </tr>\n",
       "  </thead>\n",
       "  <tbody>\n",
       "    <tr>\n",
       "      <th>0</th>\n",
       "      <td>Na</td>\n",
       "      <td>199962</td>\n",
       "    </tr>\n",
       "    <tr>\n",
       "      <th>1</th>\n",
       "      <td>VC</td>\n",
       "      <td>63299</td>\n",
       "    </tr>\n",
       "    <tr>\n",
       "      <th>2</th>\n",
       "      <td>D</td>\n",
       "      <td>53409</td>\n",
       "    </tr>\n",
       "    <tr>\n",
       "      <th>3</th>\n",
       "      <td>VH</td>\n",
       "      <td>38338</td>\n",
       "    </tr>\n",
       "    <tr>\n",
       "      <th>4</th>\n",
       "      <td>Nc</td>\n",
       "      <td>38047</td>\n",
       "    </tr>\n",
       "    <tr>\n",
       "      <th>5</th>\n",
       "      <td>P</td>\n",
       "      <td>28819</td>\n",
       "    </tr>\n",
       "    <tr>\n",
       "      <th>6</th>\n",
       "      <td>DE</td>\n",
       "      <td>28201</td>\n",
       "    </tr>\n",
       "    <tr>\n",
       "      <th>7</th>\n",
       "      <td>VJ</td>\n",
       "      <td>20013</td>\n",
       "    </tr>\n",
       "    <tr>\n",
       "      <th>8</th>\n",
       "      <td>Nf</td>\n",
       "      <td>18658</td>\n",
       "    </tr>\n",
       "    <tr>\n",
       "      <th>9</th>\n",
       "      <td>VE</td>\n",
       "      <td>17868</td>\n",
       "    </tr>\n",
       "    <tr>\n",
       "      <th>10</th>\n",
       "      <td>Nb</td>\n",
       "      <td>17333</td>\n",
       "    </tr>\n",
       "    <tr>\n",
       "      <th>11</th>\n",
       "      <td>Nd</td>\n",
       "      <td>15239</td>\n",
       "    </tr>\n",
       "    <tr>\n",
       "      <th>12</th>\n",
       "      <td>VA</td>\n",
       "      <td>14848</td>\n",
       "    </tr>\n",
       "    <tr>\n",
       "      <th>13</th>\n",
       "      <td>Caa</td>\n",
       "      <td>14655</td>\n",
       "    </tr>\n",
       "    <tr>\n",
       "      <th>14</th>\n",
       "      <td>Neu</td>\n",
       "      <td>14391</td>\n",
       "    </tr>\n",
       "    <tr>\n",
       "      <th>15</th>\n",
       "      <td>Cbb</td>\n",
       "      <td>13457</td>\n",
       "    </tr>\n",
       "    <tr>\n",
       "      <th>16</th>\n",
       "      <td>Nh</td>\n",
       "      <td>11400</td>\n",
       "    </tr>\n",
       "    <tr>\n",
       "      <th>17</th>\n",
       "      <td>Neqa</td>\n",
       "      <td>9081</td>\n",
       "    </tr>\n",
       "    <tr>\n",
       "      <th>18</th>\n",
       "      <td>Nv</td>\n",
       "      <td>8833</td>\n",
       "    </tr>\n",
       "    <tr>\n",
       "      <th>19</th>\n",
       "      <td>Nes</td>\n",
       "      <td>8206</td>\n",
       "    </tr>\n",
       "    <tr>\n",
       "      <th>20</th>\n",
       "      <td>VK</td>\n",
       "      <td>7993</td>\n",
       "    </tr>\n",
       "    <tr>\n",
       "      <th>21</th>\n",
       "      <td>Ng</td>\n",
       "      <td>7780</td>\n",
       "    </tr>\n",
       "    <tr>\n",
       "      <th>22</th>\n",
       "      <td>A</td>\n",
       "      <td>7771</td>\n",
       "    </tr>\n",
       "    <tr>\n",
       "      <th>23</th>\n",
       "      <td>SHI</td>\n",
       "      <td>7248</td>\n",
       "    </tr>\n",
       "    <tr>\n",
       "      <th>24</th>\n",
       "      <td>Nep</td>\n",
       "      <td>7104</td>\n",
       "    </tr>\n",
       "    <tr>\n",
       "      <th>25</th>\n",
       "      <td>VF</td>\n",
       "      <td>5953</td>\n",
       "    </tr>\n",
       "    <tr>\n",
       "      <th>26</th>\n",
       "      <td>Dfa</td>\n",
       "      <td>5679</td>\n",
       "    </tr>\n",
       "    <tr>\n",
       "      <th>27</th>\n",
       "      <td>V_2</td>\n",
       "      <td>4945</td>\n",
       "    </tr>\n",
       "    <tr>\n",
       "      <th>28</th>\n",
       "      <td>VG</td>\n",
       "      <td>4769</td>\n",
       "    </tr>\n",
       "    <tr>\n",
       "      <th>29</th>\n",
       "      <td>VD</td>\n",
       "      <td>4580</td>\n",
       "    </tr>\n",
       "    <tr>\n",
       "      <th>30</th>\n",
       "      <td>VL</td>\n",
       "      <td>4084</td>\n",
       "    </tr>\n",
       "    <tr>\n",
       "      <th>31</th>\n",
       "      <td>Ncd</td>\n",
       "      <td>3797</td>\n",
       "    </tr>\n",
       "    <tr>\n",
       "      <th>32</th>\n",
       "      <td>Di</td>\n",
       "      <td>3429</td>\n",
       "    </tr>\n",
       "    <tr>\n",
       "      <th>33</th>\n",
       "      <td>VHC</td>\n",
       "      <td>3186</td>\n",
       "    </tr>\n",
       "    <tr>\n",
       "      <th>34</th>\n",
       "      <td>VCL</td>\n",
       "      <td>2779</td>\n",
       "    </tr>\n",
       "    <tr>\n",
       "      <th>35</th>\n",
       "      <td>Da</td>\n",
       "      <td>2639</td>\n",
       "    </tr>\n",
       "    <tr>\n",
       "      <th>36</th>\n",
       "      <td>Cab</td>\n",
       "      <td>2534</td>\n",
       "    </tr>\n",
       "    <tr>\n",
       "      <th>37</th>\n",
       "      <td>VB</td>\n",
       "      <td>1546</td>\n",
       "    </tr>\n",
       "    <tr>\n",
       "      <th>38</th>\n",
       "      <td>T</td>\n",
       "      <td>1528</td>\n",
       "    </tr>\n",
       "    <tr>\n",
       "      <th>39</th>\n",
       "      <td>VI</td>\n",
       "      <td>1124</td>\n",
       "    </tr>\n",
       "    <tr>\n",
       "      <th>40</th>\n",
       "      <td>Dk</td>\n",
       "      <td>665</td>\n",
       "    </tr>\n",
       "    <tr>\n",
       "      <th>41</th>\n",
       "      <td>VAC</td>\n",
       "      <td>306</td>\n",
       "    </tr>\n",
       "    <tr>\n",
       "      <th>42</th>\n",
       "      <td>Neqb</td>\n",
       "      <td>180</td>\n",
       "    </tr>\n",
       "    <tr>\n",
       "      <th>43</th>\n",
       "      <td>Cba</td>\n",
       "      <td>130</td>\n",
       "    </tr>\n",
       "    <tr>\n",
       "      <th>44</th>\n",
       "      <td>I</td>\n",
       "      <td>119</td>\n",
       "    </tr>\n",
       "    <tr>\n",
       "      <th>45</th>\n",
       "      <td>Dfb</td>\n",
       "      <td>68</td>\n",
       "    </tr>\n",
       "    <tr>\n",
       "      <th>46</th>\n",
       "      <td>FW</td>\n",
       "      <td>26</td>\n",
       "    </tr>\n",
       "    <tr>\n",
       "      <th>47</th>\n",
       "      <td>ETCCATEGORY</td>\n",
       "      <td>14</td>\n",
       "    </tr>\n",
       "    <tr>\n",
       "      <th>48</th>\n",
       "      <td>DASHCATEGORY</td>\n",
       "      <td>4</td>\n",
       "    </tr>\n",
       "  </tbody>\n",
       "</table>\n",
       "</div>"
      ],
      "text/plain": [
       "             pos   count\n",
       "0             Na  199962\n",
       "1             VC   63299\n",
       "2              D   53409\n",
       "3             VH   38338\n",
       "4             Nc   38047\n",
       "5              P   28819\n",
       "6             DE   28201\n",
       "7             VJ   20013\n",
       "8             Nf   18658\n",
       "9             VE   17868\n",
       "10            Nb   17333\n",
       "11            Nd   15239\n",
       "12            VA   14848\n",
       "13           Caa   14655\n",
       "14           Neu   14391\n",
       "15           Cbb   13457\n",
       "16            Nh   11400\n",
       "17          Neqa    9081\n",
       "18            Nv    8833\n",
       "19           Nes    8206\n",
       "20            VK    7993\n",
       "21            Ng    7780\n",
       "22             A    7771\n",
       "23           SHI    7248\n",
       "24           Nep    7104\n",
       "25            VF    5953\n",
       "26           Dfa    5679\n",
       "27           V_2    4945\n",
       "28            VG    4769\n",
       "29            VD    4580\n",
       "30            VL    4084\n",
       "31           Ncd    3797\n",
       "32            Di    3429\n",
       "33           VHC    3186\n",
       "34           VCL    2779\n",
       "35            Da    2639\n",
       "36           Cab    2534\n",
       "37            VB    1546\n",
       "38             T    1528\n",
       "39            VI    1124\n",
       "40            Dk     665\n",
       "41           VAC     306\n",
       "42          Neqb     180\n",
       "43           Cba     130\n",
       "44             I     119\n",
       "45           Dfb      68\n",
       "46            FW      26\n",
       "47   ETCCATEGORY      14\n",
       "48  DASHCATEGORY       4"
      ]
     },
     "execution_count": 27,
     "metadata": {},
     "output_type": "execute_result"
    }
   ],
   "source": [
    "pos_count = pd.DataFrame(exploded_data['pos'].value_counts())\n",
    "pos_count.reset_index(inplace=True)\n",
    "pos_count.columns = ['pos', 'count']\n",
    "pos_count"
   ]
  },
  {
   "cell_type": "markdown",
   "id": "d5f97f54d9243760",
   "metadata": {
    "id": "d5f97f54d9243760"
   },
   "source": [
    "### 繪製詞性類別"
   ]
  },
  {
   "cell_type": "code",
   "execution_count": null,
   "id": "abb3c246620c942e",
   "metadata": {
    "ExecuteTime": {
     "end_time": "2024-06-02T17:42:43.529977Z",
     "start_time": "2024-06-02T17:42:43.291969Z"
    },
    "id": "abb3c246620c942e",
    "outputId": "737606d0-b044-4ed2-f001-d9cae07d2011"
   },
   "outputs": [
    {
     "data": {
      "image/png": "[encoded data removed]",
      "text/plain": [
       "<Figure size 1200x1200 with 1 Axes>"
      ]
     },
     "metadata": {},
     "output_type": "display_data"
    }
   ],
   "source": [
    "# 繪製詞性類別\n",
    "plt.figure(figsize=(12, 12))\n",
    "plt.barh(pos_count['pos'], pos_count['count'], color='skyblue')\n",
    "plt.xlabel('Count')\n",
    "plt.ylabel('POS Categories')\n",
    "plt.title('POS Categories Count')\n",
    "plt.gca().invert_yaxis()\n",
    "plt.show()"
   ]
  },
  {
   "cell_type": "markdown",
   "id": "164d328a105f13d5",
   "metadata": {
    "id": "164d328a105f13d5"
   },
   "source": [
    "### POS (Part-of-Speech) 前十名分析\n",
    "\n",
    "以下是對於POS標記前十名及其對應詞彙數量的詳細分析：\n",
    "\n",
    "1. Na（普通名詞）：\n",
    "    - 數量：199,962\n",
    "    - 分析：普通名詞的高頻出現反映了討論中涉及大量具體事物、概念和主題。這些名詞包括具體的物體、場所、組織等。\n",
    "    - 影響：名詞的頻繁使用有助於確定討論的核心話題和焦點，有助於理解文本的主要內容和關注點。\n",
    "\n",
    "2. VC（及物動詞）：\n",
    "    - 數量：63,299\n",
    "    - 分析：及物動詞用於描述具體的動作和行為，通常後接受詞。高頻的VC表明討論中存在大量的具體行動描述。\n",
    "    - 影響：分析及物動詞可以了解討論中的主要活動、操作及其對象，有助於理解討論的動態過程。\n",
    "\n",
    "3. D（副詞）：\n",
    "    - 數量：53,409\n",
    "    - 分析：副詞用於修飾動詞、形容詞或其他副詞，提供更多細節和語氣。高頻副詞表明討論中對行動和性質的詳細描述。\n",
    "    - 影響：副詞的使用可以揭示出討論的細節程度和語氣，幫助更準確地理解文本的語義。\n",
    "\n",
    "4. VH（形容詞）：\n",
    "    - 數量：38,338\n",
    "    - 分析：形容詞用於修飾名詞，提供有關事物的性質、狀態或特徵的描述。高頻形容詞表明討論中對事物特徵的重視。\n",
    "    - 影響：形容詞的使用可以揭示出討論中對不同事物的評價和看法，有助於理解文本的態度和觀點。\n",
    "\n",
    "5. Nc（專有名詞）：\n",
    "    - 數量：38,047\n",
    "    - 分析：專有名詞指特定的事物或名稱，如地名、人名、品牌名等。高頻專有名詞反映了具體實體在討論中的重要性。\n",
    "    - 影響：專有名詞的分析有助於識別討論中的主要實體和關鍵詞，理解討論的具體對象。\n",
    "\n",
    "6. P（介詞）：\n",
    "    - 數量：28,819\n",
    "    - 分析：介詞用於表示名詞、代詞與句中其他詞的關係。高頻介詞表明討論中對事物之間關係的描述。\n",
    "    - 影響：介詞的使用有助於理解句子中的邏輯和語義關係，解析句子的結構。\n",
    "\n",
    "7. DE（結構助詞）：\n",
    "    - 數量：28,201\n",
    "    - 分析：結構助詞「的」用於連接名詞和修飾語，是漢語中最常見的結構詞之一。高頻出現表明句子結構中的常見用法。\n",
    "    - 影響：結構助詞的使用有助於理解句子的結構和組成部分，有助於解析句子的語法關係。\n",
    "\n",
    "8. VJ（結構助詞）：\n",
    "    - 數量：20,013\n",
    "    - 分析：結構助詞「得」常位於動詞之後，引出補語，表示動作的程度或方式；「地」常置於形容詞或動詞前，將後續詞語作為狀語補充說明。\n",
    "    - 影響：VJ 的使用能精確地標示動作或性質的細節與程度，幫助解析補語結構及動詞／形容詞與其補語之間的語義關係。\n",
    "\n",
    "9. Nf（時間名詞）：\n",
    "    - 數量：18,658\n",
    "    - 分析：時間名詞如「今天」、「明天」等，表示時間。高頻時間名詞表明討論中對時間的重視。\n",
    "    - 影響：時間名詞的分析有助於理解討論的時間背景和事件發生的時間點，提供時間軸信息。\n",
    "\n",
    "10. VE（有詞）：\n",
    "    - 數量：17,868\n",
    "    - 分析：有詞如「有」表示存在、擁有等。高頻有詞表明討論中對存在狀態和擁有關係的描述。\n",
    "    - 影響：有詞的使用有助於理解討論中的擁有關係和存在狀態，解析文本的語義結構。"
   ]
  },
  {
   "cell_type": "code",
   "execution_count": null,
   "id": "ea00edb749fc845b",
   "metadata": {
    "ExecuteTime": {
     "end_time": "2024-06-02T17:47:03.655527Z",
     "start_time": "2024-06-02T17:47:03.466528Z"
    },
    "id": "ea00edb749fc845b",
    "outputId": "b2734046-7c6f-4745-df3b-da5ba5ef4314"
   },
   "outputs": [
    {
     "data": {
      "image/png": "[encoded data removed]",
      "text/plain": [
       "<Figure size 1200x600 with 1 Axes>"
      ]
     },
     "metadata": {},
     "output_type": "display_data"
    }
   ],
   "source": [
    "filter_pos = ['Na']\n",
    "noun_data = exploded_data[exploded_data['pos'].isin(filter_pos)]\n",
    "\n",
    "# 視覺化名詞類別\n",
    "# plt.rcParams['font.family'] = 'Noto Sans TC'\n",
    "plt.figure(figsize=(12, 6))\n",
    "plt.barh(noun_data['word'].value_counts().index[:10], noun_data['word'].value_counts()[:10], color='skyblue')\n",
    "plt.xlabel('Count')\n",
    "plt.ylabel('Noun Categories')\n",
    "plt.title('Top 10 Noun Categories')\n",
    "plt.gca().invert_yaxis()\n",
    "plt.show()"
   ]
  },
  {
   "cell_type": "markdown",
   "id": "94eb652d1cecc035",
   "metadata": {
    "id": "94eb652d1cecc035"
   },
   "source": [
    "### 圖表分析：前十名名詞類別\n",
    "\n",
    "我們可以看到「工作」在名詞類別中出現頻率最高（約 3900 次），這反映出台灣職場對 AI 能力的高度需求，帶動了大量 AI 相關職缺的出現。其次，「晶片」（約 1550 次）凸顯了硬體加速器在 AI 運算中的關鍵角色，說明業界對於效能優化的重視。另一方面，「法律」（約 2100 次）也名列前茅，暗示隨著 AI 技術的快速普及，既有法規面臨挑戰，亟需修訂以因應新興應用與倫理風險。綜合來看，此次詞頻分析不僅呈現了技術端的發展熱點，也突顯了 AI 對勞動市場與法制環境的深遠影響。"
   ]
  },
  {
   "cell_type": "markdown",
   "id": "bf854b361a2f2645",
   "metadata": {
    "id": "bf854b361a2f2645"
   },
   "source": [
    "## 結論\n",
    "\n",
    "通過對 AI 相關文本數據的 NER 和 POS 分析，我們可以獲得以下結論：\n",
    "\n",
    "1. 組織實體：出現頻率最高的組織包括 NVIDIA、TSMC、Amazon 等，討論核心圍繞晶片製造商與雲端平台的市場競爭與技術布局，顯示使用者對供應鏈動態與技術可擴展性的高度關注。\n",
    "2. 人物實體：頻繁被提及的黃仁勳、魏哲家、Elon Musk 等，代表了各自企業在 AI 領域的技術與市場影響力。這些人物常成為 PTT 鄉民討論的焦點，用以解讀公司策略、產能分配與技術創新對產業走向的意義。\n",
    "3. 事件實體：以台北國際電腦展、國際半導體展、CES 等技術博覽會為主，顯示展示平台是社群掌握最新 AI 技術與產品的主要來源。\n",
    "4. 詞性分析：普通名詞最為高頻，說明 PTT 討論高度聚焦於具體事物與概念本身；及物動詞、副詞的頻繁使用則揭示了動作描述與細節修飾的豐富性。\n",
    "5. 名詞類別：「工作」、「晶片」、「能力」、「法律」等詞彙出現頻次最高，分別對應 AI 技術對職場的影響、硬體核心技術、模型與人員能力要求，以及法規與倫理挑戰。"
   ]
  }
 ],
 "metadata": {
  "colab": {
   "provenance": []
  },
  "kernelspec": {
   "display_name": "Python 3",
   "language": "python",
   "name": "python3"
  },
  "language_info": {
   "codemirror_mode": {
    "name": "ipython",
    "version": 3
   },
   "file_extension": ".py",
   "mimetype": "text/x-python",
   "name": "python",
   "nbconvert_exporter": "python",
   "pygments_lexer": "ipython3",
   "version": "3.10.16"
  }
 },
 "nbformat": 4,
 "nbformat_minor": 5
}
